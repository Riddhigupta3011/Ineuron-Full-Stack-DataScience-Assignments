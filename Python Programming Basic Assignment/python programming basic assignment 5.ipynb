{
 "cells": [
  {
   "cell_type": "markdown",
   "id": "bfe5f882",
   "metadata": {},
   "source": [
    "##  1.\tWrite a Python Program to Find LCM?"
   ]
  },
  {
   "cell_type": "code",
   "execution_count": 10,
   "id": "678e815a",
   "metadata": {},
   "outputs": [
    {
     "name": "stdout",
     "output_type": "stream",
     "text": [
      "Enter first number: 3\n",
      "Enter second number: 6\n",
      "The LCM of 3 and 6 is 6\n"
     ]
    }
   ],
   "source": [
    "# function to find the GCD of two numbers\n",
    "def gcd(a, b):\n",
    "    if b == 0:\n",
    "        return a\n",
    "    else:\n",
    "        return gcd(b, a % b)\n",
    "\n",
    "# function to find the LCM of two numbers\n",
    "def lcm(a, b):\n",
    "    return (a * b) // gcd(a, b)\n",
    "\n",
    "# take input from the user\n",
    "num1 = int(input(\"Enter first number: \"))\n",
    "num2 = int(input(\"Enter second number: \"))\n",
    "\n",
    "# call the lcm() function and print the result\n",
    "print(\"The LCM of\", num1, \"and\", num2, \"is\", lcm(num1, num2))\n",
    "\n"
   ]
  },
  {
   "cell_type": "markdown",
   "id": "bbfd502b",
   "metadata": {},
   "source": [
    "##  2.\tWrite a Python Program to Find HCF?"
   ]
  },
  {
   "cell_type": "code",
   "execution_count": 13,
   "id": "e9d5669a",
   "metadata": {},
   "outputs": [
    {
     "name": "stdout",
     "output_type": "stream",
     "text": [
      "Enter first number: 6\n",
      "Enter second number: 12\n",
      "The HCF of 6 and 12 is 6\n"
     ]
    }
   ],
   "source": [
    "# function to find the HCF of two numbers\n",
    "def hcf(a, b):\n",
    "    if b == 0:\n",
    "        return a\n",
    "    else:\n",
    "        return hcf(b, a % b)\n",
    "\n",
    "# take input from the user\n",
    "num1 = int(input(\"Enter first number: \"))\n",
    "num2 = int(input(\"Enter second number: \"))\n",
    "\n",
    "# call the hcf() function and print the result\n",
    "print(\"The HCF of\", num1, \"and\", num2, \"is\", hcf(num1, num2))\n"
   ]
  },
  {
   "cell_type": "markdown",
   "id": "4f9d1337",
   "metadata": {},
   "source": [
    "## 3.\tWrite a Python Program to Convert Decimal to Binary, Octal and Hexadecimal?"
   ]
  },
  {
   "cell_type": "code",
   "execution_count": 17,
   "id": "ec14b977",
   "metadata": {},
   "outputs": [
    {
     "name": "stdout",
     "output_type": "stream",
     "text": [
      "Enter a decimal number: 8754\n",
      "The binary representation of 8754 is 0b10001000110010\n",
      "The octal representation of 8754 is 0o21062\n",
      "The hexadecimal representation of 8754 is 0x2232\n"
     ]
    }
   ],
   "source": [
    "decimal_num = int(input(\"Enter a decimal number: \"))\n",
    "\n",
    "# convert to binary\n",
    "binary_num = bin(decimal_num)\n",
    "print(\"The binary representation of\", decimal_num, \"is\", binary_num)\n",
    "\n",
    "# convert to octal\n",
    "octal_num = oct(decimal_num)\n",
    "print(\"The octal representation of\", decimal_num, \"is\", octal_num)\n",
    "\n",
    "# convert to hexadecimal\n",
    "hex_num = hex(decimal_num)\n",
    "print(\"The hexadecimal representation of\", decimal_num, \"is\", hex_num)\n"
   ]
  },
  {
   "cell_type": "markdown",
   "id": "e3ed2c65",
   "metadata": {},
   "source": [
    "## 4.\tWrite a Python Program To Find ASCII value of a character?"
   ]
  },
  {
   "cell_type": "code",
   "execution_count": 19,
   "id": "4686a242",
   "metadata": {},
   "outputs": [
    {
     "name": "stdout",
     "output_type": "stream",
     "text": [
      "Enter a character: #\n",
      "The ASCII value of # is 35\n"
     ]
    }
   ],
   "source": [
    "# take input from the user\n",
    "char = input(\"Enter a character: \")\n",
    "\n",
    "# find the ASCII value using the ord() function\n",
    "ascii_value = ord(char)\n",
    "\n",
    "# print the ASCII value\n",
    "print(\"The ASCII value of\", char, \"is\", ascii_value)\n"
   ]
  },
  {
   "cell_type": "markdown",
   "id": "bb2a3fa5",
   "metadata": {},
   "source": [
    "## 5.\tWrite a Python Program to Make a Simple Calculator with 4 basic mathematical operations?"
   ]
  },
  {
   "cell_type": "code",
   "execution_count": 21,
   "id": "87e2f119",
   "metadata": {},
   "outputs": [
    {
     "name": "stdout",
     "output_type": "stream",
     "text": [
      "Enter first number: 75\n",
      "Enter second number: 5\n",
      "Select operation.\n",
      "1. Add\n",
      "2. Subtract\n",
      "3. Multiply\n",
      "4. Divide\n",
      "Enter choice (1/2/3/4): 4\n",
      "75.0 / 5.0 = 15.0\n"
     ]
    }
   ],
   "source": [
    "# function to add two numbers\n",
    "def add(x, y):\n",
    "    return x + y\n",
    "\n",
    "# function to subtract two numbers\n",
    "def subtract(x, y):\n",
    "    return x - y\n",
    "\n",
    "# function to multiply two numbers\n",
    "def multiply(x, y):\n",
    "    return x * y\n",
    "\n",
    "# function to divide two numbers\n",
    "def divide(x, y):\n",
    "    return x / y\n",
    "\n",
    "# take input from the user\n",
    "num1 = float(input(\"Enter first number: \"))\n",
    "num2 = float(input(\"Enter second number: \"))\n",
    "\n",
    "# print the menu\n",
    "print(\"Select operation.\")\n",
    "print(\"1. Add\")\n",
    "print(\"2. Subtract\")\n",
    "print(\"3. Multiply\")\n",
    "print(\"4. Divide\")\n",
    "\n",
    "# take input from the user for the choice of operation\n",
    "choice = input(\"Enter choice (1/2/3/4): \")\n",
    "\n",
    "# perform the selected operation\n",
    "if choice == '1':\n",
    "    print(num1, \"+\", num2, \"=\", add(num1, num2))\n",
    "\n",
    "elif choice == '2':\n",
    "    print(num1, \"-\", num2, \"=\", subtract(num1, num2))\n",
    "\n",
    "elif choice == '3':\n",
    "    print(num1, \"*\", num2, \"=\", multiply(num1, num2))\n",
    "\n",
    "elif choice == '4':\n",
    "    print(num1, \"/\", num2, \"=\", divide(num1, num2))\n",
    "\n",
    "else:\n",
    "    print(\"Invalid input\")\n"
   ]
  }
 ],
 "metadata": {
  "kernelspec": {
   "display_name": "Python 3 (ipykernel)",
   "language": "python",
   "name": "python3"
  },
  "language_info": {
   "codemirror_mode": {
    "name": "ipython",
    "version": 3
   },
   "file_extension": ".py",
   "mimetype": "text/x-python",
   "name": "python",
   "nbconvert_exporter": "python",
   "pygments_lexer": "ipython3",
   "version": "3.9.12"
  }
 },
 "nbformat": 4,
 "nbformat_minor": 5
}
