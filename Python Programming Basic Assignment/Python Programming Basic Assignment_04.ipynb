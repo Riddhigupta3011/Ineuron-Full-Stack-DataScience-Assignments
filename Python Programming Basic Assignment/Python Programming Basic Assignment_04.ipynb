{
 "cells": [
  {
   "cell_type": "markdown",
   "id": "a2f31258",
   "metadata": {},
   "source": [
    "# 1.\tWrite a Python Program to Find the Factorial of a Number?"
   ]
  },
  {
   "cell_type": "code",
   "execution_count": 76,
   "id": "a7b38609",
   "metadata": {},
   "outputs": [],
   "source": [
    "def factorial(n):\n",
    "    '''Takes a number and returns the factorial of that number'''\n",
    "    if n==1 or n==0:\n",
    "        return 1\n",
    "    else:\n",
    "        return n * factorial(n-1)"
   ]
  },
  {
   "cell_type": "code",
   "execution_count": 77,
   "id": "c972112a",
   "metadata": {},
   "outputs": [
    {
     "data": {
      "text/plain": [
       "720"
      ]
     },
     "execution_count": 77,
     "metadata": {},
     "output_type": "execute_result"
    }
   ],
   "source": [
    "factorial(6)"
   ]
  },
  {
   "cell_type": "markdown",
   "id": "873c4599",
   "metadata": {},
   "source": [
    "# 2.\tWrite a Python Program to Display the multiplication Table?"
   ]
  },
  {
   "cell_type": "code",
   "execution_count": 6,
   "id": "85143a2f",
   "metadata": {},
   "outputs": [
    {
     "name": "stdout",
     "output_type": "stream",
     "text": [
      "Tabel of : 12\n",
      "12 X 1 = 12\n",
      "12 X 2 = 24\n",
      "12 X 3 = 36\n",
      "12 X 4 = 48\n",
      "12 X 5 = 60\n",
      "12 X 6 = 72\n",
      "12 X 7 = 84\n",
      "12 X 8 = 96\n",
      "12 X 9 = 108\n",
      "12 X 10 = 120\n"
     ]
    }
   ],
   "source": [
    "a=int(input(\"Tabel of : \"))\n",
    "for i in range(1,11):\n",
    "    print(a,\"X\",i,\"=\",a*i)"
   ]
  },
  {
   "cell_type": "markdown",
   "id": "7d509d73",
   "metadata": {},
   "source": [
    "# 3.\tWrite a Python Program to Print the Fibonacci sequence?"
   ]
  },
  {
   "cell_type": "code",
   "execution_count": 29,
   "id": "4ebf8aa8",
   "metadata": {},
   "outputs": [],
   "source": [
    "def fibseq(n):\n",
    "    if n==0:\n",
    "        return 0\n",
    "    elif n==1:\n",
    "        return 1\n",
    "    elif n>1:\n",
    "        return fibseq(n-1)+fibseq(n-2)"
   ]
  },
  {
   "cell_type": "code",
   "execution_count": 30,
   "id": "8de9e53b",
   "metadata": {},
   "outputs": [
    {
     "data": {
      "text/plain": [
       "13"
      ]
     },
     "execution_count": 30,
     "metadata": {},
     "output_type": "execute_result"
    }
   ],
   "source": [
    "fibseq(7)"
   ]
  },
  {
   "cell_type": "code",
   "execution_count": 82,
   "id": "437d7b1d",
   "metadata": {},
   "outputs": [
    {
     "name": "stdout",
     "output_type": "stream",
     "text": [
      "Enter number : 8\n",
      "Fabonacci sequence of 8\n",
      "0 1 1 2 3 5 8 13 21 "
     ]
    }
   ],
   "source": [
    "n=int(input(\"Enter number : \"))\n",
    "print(\"Fabonacci sequence of\",n)\n",
    "for i in range(0,n+1):\n",
    "    print(fibseq(i),end=\" \")"
   ]
  },
  {
   "cell_type": "markdown",
   "id": "39cb02d3",
   "metadata": {},
   "source": [
    "# 4.\tWrite a Python Program to Check Armstrong Number?"
   ]
  },
  {
   "cell_type": "code",
   "execution_count": 57,
   "id": "0d8d3840",
   "metadata": {},
   "outputs": [],
   "source": [
    "def armstrongnum(num):\n",
    "    n=num\n",
    "    order = len(str(num))\n",
    "    sum=0\n",
    "    while(num>0):\n",
    "        digit=num%10\n",
    "        sum += digit ** order\n",
    "        num = num//10\n",
    "    \n",
    "    if sum==n:\n",
    "        print(\"Yes,\",n,\"is an armstrong number\")\n",
    "    else:\n",
    "        print(\"No,\",n,\"is not an armstrong number\")"
   ]
  },
  {
   "cell_type": "code",
   "execution_count": 58,
   "id": "5f54f2f5",
   "metadata": {},
   "outputs": [
    {
     "name": "stdout",
     "output_type": "stream",
     "text": [
      "Yes, 1634 is an armstrong number\n"
     ]
    }
   ],
   "source": [
    "armstrongnum(1634)"
   ]
  },
  {
   "cell_type": "markdown",
   "id": "f3223566",
   "metadata": {},
   "source": [
    "# 5.\tWrite a Python Program to Find Armstrong Number in an Interval?"
   ]
  },
  {
   "cell_type": "code",
   "execution_count": 59,
   "id": "2d26cc74",
   "metadata": {},
   "outputs": [
    {
     "name": "stdout",
     "output_type": "stream",
     "text": [
      "lower limit : 100\n",
      "upper limit : 500\n",
      "153\n",
      "370\n",
      "371\n",
      "407\n"
     ]
    }
   ],
   "source": [
    "lower=int(input(\"lower limit : \"))\n",
    "upper=int(input(\"upper limit : \"))\n",
    "for num in range(lower, upper+1):\n",
    "    order = len(str(num))\n",
    "    sum=0\n",
    "    temp=num\n",
    "    while(temp>0):\n",
    "        digit=temp%10\n",
    "        sum += digit ** order\n",
    "        temp //= 10\n",
    "    \n",
    "    if sum==num:\n",
    "        print(num)\n",
    "        "
   ]
  },
  {
   "cell_type": "markdown",
   "id": "0087cb9d",
   "metadata": {},
   "source": [
    "# 6.\tWrite a Python Program to Find the Sum of Natural Numbers?"
   ]
  },
  {
   "cell_type": "code",
   "execution_count": 65,
   "id": "7f3783c5",
   "metadata": {},
   "outputs": [],
   "source": [
    "def sum(n):\n",
    "    s=0\n",
    "    for i in range(1,n+1):\n",
    "        s=s+i\n",
    "    return s"
   ]
  },
  {
   "cell_type": "code",
   "execution_count": 67,
   "id": "cd4a029f",
   "metadata": {},
   "outputs": [
    {
     "name": "stdout",
     "output_type": "stream",
     "text": [
      "Please Enter Number : 48\n",
      "The sum of Natural Numbers from 1 to 48 :  1176\n"
     ]
    }
   ],
   "source": [
    "number=int(input(\"Please Enter Number : \"))\n",
    "print(f\"The sum of Natural Numbers from 1 to {number} : \",sum(number))"
   ]
  }
 ],
 "metadata": {
  "kernelspec": {
   "display_name": "Python 3 (ipykernel)",
   "language": "python",
   "name": "python3"
  },
  "language_info": {
   "codemirror_mode": {
    "name": "ipython",
    "version": 3
   },
   "file_extension": ".py",
   "mimetype": "text/x-python",
   "name": "python",
   "nbconvert_exporter": "python",
   "pygments_lexer": "ipython3",
   "version": "3.9.12"
  }
 },
 "nbformat": 4,
 "nbformat_minor": 5
}
