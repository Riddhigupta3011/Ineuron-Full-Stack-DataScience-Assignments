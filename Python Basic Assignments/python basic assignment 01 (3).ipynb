{
 "cells": [
  {
   "cell_type": "markdown",
   "id": "f376e17e",
   "metadata": {},
   "source": [
    "# Python basic assignment - 01 "
   ]
  },
  {
   "cell_type": "markdown",
   "id": "a7bad15c",
   "metadata": {},
   "source": [
    "## Que - 01 \n",
    "\n",
    "In the below elements which of them are values or an expression? eg:- values can be integer or string and expressions will be mathematical operators."
   ]
  },
  {
   "cell_type": "markdown",
   "id": "a643e23f",
   "metadata": {},
   "source": [
    "*, \"hello\", -87.8, -, /, +, 6"
   ]
  },
  {
   "cell_type": "markdown",
   "id": "959c8c54",
   "metadata": {},
   "source": [
    "### solution 01\n",
    "operators = *, -, /, +\n",
    "\n",
    "\n",
    "Expressions = \"hello\",-87.8,6"
   ]
  },
  {
   "cell_type": "markdown",
   "id": "608097ef",
   "metadata": {},
   "source": [
    "## Que - 02\n",
    "What is the difference between string and variable?"
   ]
  },
  {
   "cell_type": "markdown",
   "id": "7b36e0d0",
   "metadata": {},
   "source": [
    "### solution 02\n",
    "\n",
    "A string is a type of data which you can store in a variable, it is a group of characters or a single character.\n",
    "\n",
    "for example : \"good morning\",\"hello,\"etc.\n",
    "\n",
    "variable is like a container to store data or information.\n",
    "\n",
    "for example : a=34, marks=89.3 etc"
   ]
  },
  {
   "cell_type": "markdown",
   "id": "61142670",
   "metadata": {},
   "source": [
    "## Que-03\n",
    "Describe three different data types."
   ]
  },
  {
   "cell_type": "markdown",
   "id": "97b3828a",
   "metadata": {},
   "source": [
    "### solution - 03\n",
    "1.int - int data type is used to represent integral values(whole numbers). example - 1,2,3,4,...etc.\n",
    "\n",
    "\n",
    "2.str - str data type is used to represent characters and it is usually enclosed in \" \" or ' '. example-\"hello\",\"good morning\",etc.\n",
    "\n",
    "\n",
    "3.float - float data type is used to represent float values(decimal values). example - 3.5,576.7,etc."
   ]
  },
  {
   "cell_type": "markdown",
   "id": "f6e82d1d",
   "metadata": {},
   "source": [
    "## Que-04\n",
    "What is an expression made up of? What do all expressions do?"
   ]
  },
  {
   "cell_type": "markdown",
   "id": "8996631d",
   "metadata": {},
   "source": [
    "### solution - 04\n",
    "An expression is a combination of values, variables, operators, and calls to functions. Expressions need to be evaluated. If you ask Python to print an expression, the interpreter evaluates the expression and displays the result. An Expression always evaluates (calculate) to itself.A value or a variable all by itself is also considered an expression, because these always evaluates to itself.\n",
    "\n",
    "for example = 4 + 2 , 4*3 , + , / , - etc.\n",
    "(arithmetic expressions)"
   ]
  },
  {
   "cell_type": "markdown",
   "id": "04f46c8a",
   "metadata": {},
   "source": [
    "## Que-05\n",
    "This assignment statements, like spam = 10. What is the difference between an expression and a statement?"
   ]
  },
  {
   "cell_type": "markdown",
   "id": "8dedf086",
   "metadata": {},
   "source": [
    "### solution - 05\n",
    "statement:\n",
    "Any Instruction(an order/command to perform some mathematical or logical manipulations (calculations)) that a python interpreter can execute (carry out) is called a Statement. A Statement is the smallest executable unit of code that has an effect, like creating a variable or displaying a value.\n",
    "\n",
    "There are mainly four types of statements in Python, Print statements, Assignment statements, Conditional statements and Looping statements.\n"
   ]
  },
  {
   "cell_type": "markdown",
   "id": "07f61bbf",
   "metadata": {},
   "source": [
    "#difference between expression and statement\n",
    "\n",
    "\n",
    "1.\n",
    "An expression evaluates to a value.    \n",
    "A statement executes something.\n",
    "\n",
    "2.\n",
    "The evaluation of a statement does not changes state.         \n",
    "The execution of a statement changes state.\n",
    " \n",
    "3.\n",
    "Evaluation of an expression always Produces or returns a result value.       \n",
    "Execution of a statement may or may not produces or displays a result value, it only does whatever the statement says.\n",
    "\n",
    "4.\n",
    "Every expression can’t be a statement.                                      \t\n",
    "Every statement can be an expression.\n",
    "                                   \n",
    "                                   "
   ]
  },
  {
   "cell_type": "markdown",
   "id": "a9c1c1e0",
   "metadata": {},
   "source": [
    "## Que - 06 \n",
    "After running the following code, what does the variable bacon contain?\n",
    "\n",
    "\n",
    "bacon = 22\n",
    "\n",
    "\n",
    "bacon + 1"
   ]
  },
  {
   "cell_type": "markdown",
   "id": "0dd4d51c",
   "metadata": {},
   "source": [
    "### solution - 06 \n",
    "The variable bacon contain 22 even after running the given code, it is because bacon is set to 22. bacon + 1 will not reassign the value in bacon (the value will get changed if the code would be written as bacon = bacon + 1)."
   ]
  },
  {
   "cell_type": "markdown",
   "id": "3ea1b84e",
   "metadata": {},
   "source": [
    "## Que - 07 \n",
    "what should the values of the following two terms be?\n",
    "\n",
    "\n",
    "1. \"spam\"+\"spamspam\"\n",
    "\n",
    "\n",
    "2. spam * 3"
   ]
  },
  {
   "cell_type": "markdown",
   "id": "efc527b9",
   "metadata": {},
   "source": [
    "### solution - 07\n",
    "\n",
    "both expressions will be evaluated to string \"spamspamspam\" where \n",
    "1. string concatenation (\"spam\"+\"spamspam\")\n",
    "\n",
    "2. string multiplication (spam * 3)\n"
   ]
  },
  {
   "cell_type": "markdown",
   "id": "41f8ec80",
   "metadata": {},
   "source": [
    "## Que - 08\n",
    "Why is eggs a valid variable name while 100 is invalid?"
   ]
  },
  {
   "cell_type": "markdown",
   "id": "d091a917",
   "metadata": {},
   "source": [
    "### solution - 08\n",
    "In Python, variable names can not starts with a number"
   ]
  },
  {
   "cell_type": "markdown",
   "id": "05f138f7",
   "metadata": {
    "scrolled": false
   },
   "source": [
    "'''As per python,Variable names cannot begin with a number. The python rules for naming a variable are :-\n",
    "\n",
    "Variable name must start with a letter or the underscore character.\n",
    "\n",
    "\n",
    "Variable name cannot start with a number.\n",
    "\n",
    "\n",
    "Variable name can only contain alpha-numeric characters and underscores (A-z, 0-9, & _ ).\n",
    "\n",
    "\n",
    "Variable names are case-sensitive (name, INEURON and ineuron are three different variables).\n",
    "\n",
    "\n",
    "The reserved words(keywords) cannot be used naming the variable.'''"
   ]
  },
  {
   "cell_type": "markdown",
   "id": "e65abfa9",
   "metadata": {},
   "source": [
    "## Que - 09\n",
    "What three functions can be used to get the integer, floating-point number, or string version of a value?"
   ]
  },
  {
   "cell_type": "markdown",
   "id": "9d8204fe",
   "metadata": {},
   "source": [
    "### solution - 09\n",
    "\n"
   ]
  },
  {
   "cell_type": "markdown",
   "id": "8999812f",
   "metadata": {},
   "source": [
    "int(),float(),str() are three functions that can be used to get the integer, floating point number and string versions of a value respectively.\n",
    "\n"
   ]
  },
  {
   "cell_type": "code",
   "execution_count": 11,
   "id": "aaa5f034",
   "metadata": {},
   "outputs": [
    {
     "name": "stdout",
     "output_type": "stream",
     "text": [
      "67\n",
      "67.0\n",
      "67\n"
     ]
    }
   ],
   "source": [
    "#example : \n",
    "a=67\n",
    "print(int(a))\n",
    "print(float(a))\n",
    "print(str(a))"
   ]
  },
  {
   "cell_type": "markdown",
   "id": "d728b493",
   "metadata": {},
   "source": [
    "### Que - 10\n",
    "Why does this expression cause an error? How can you fix it?\n",
    "\n",
    "'I have eaten ' + 99 + ' burritos.'"
   ]
  },
  {
   "cell_type": "markdown",
   "id": "75e298f5",
   "metadata": {},
   "source": [
    "### solution - 10\n",
    "\n",
    "two strings can not be added with integer value, so first we have to convert integer value \"99\" into string value using str() function."
   ]
  },
  {
   "cell_type": "code",
   "execution_count": 12,
   "id": "8deb1a95",
   "metadata": {},
   "outputs": [
    {
     "data": {
      "text/plain": [
       "'I have eaten 99 burritos.'"
      ]
     },
     "execution_count": 12,
     "metadata": {},
     "output_type": "execute_result"
    }
   ],
   "source": [
    "'I have eaten ' +str(99)+  ' burritos.'"
   ]
  },
  {
   "cell_type": "code",
   "execution_count": null,
   "id": "c25c41d4",
   "metadata": {},
   "outputs": [],
   "source": []
  }
 ],
 "metadata": {
  "kernelspec": {
   "display_name": "Python 3 (ipykernel)",
   "language": "python",
   "name": "python3"
  },
  "language_info": {
   "codemirror_mode": {
    "name": "ipython",
    "version": 3
   },
   "file_extension": ".py",
   "mimetype": "text/x-python",
   "name": "python",
   "nbconvert_exporter": "python",
   "pygments_lexer": "ipython3",
   "version": "3.9.12"
  }
 },
 "nbformat": 4,
 "nbformat_minor": 5
}
