{
 "cells": [
  {
   "cell_type": "markdown",
   "id": "cc0889c2",
   "metadata": {},
   "source": [
    "# 1.\tWrite a Python program to print \"Hello Python\"?"
   ]
  },
  {
   "cell_type": "code",
   "execution_count": 3,
   "id": "d3c81021",
   "metadata": {},
   "outputs": [
    {
     "name": "stdout",
     "output_type": "stream",
     "text": [
      "Hello Python\n"
     ]
    }
   ],
   "source": [
    "print(\"Hello Python\")"
   ]
  },
  {
   "cell_type": "markdown",
   "id": "f8faf428",
   "metadata": {},
   "source": [
    "# 2.\tWrite a Python program to do arithmetical operations addition and division.?"
   ]
  },
  {
   "cell_type": "code",
   "execution_count": 4,
   "id": "1aaf7149",
   "metadata": {
    "scrolled": true
   },
   "outputs": [
    {
     "name": "stdout",
     "output_type": "stream",
     "text": [
      "enter any number : 5\n",
      "enter any number : 5\n",
      "enter operation you want : (/,+) : +\n",
      "10.0\n"
     ]
    }
   ],
   "source": [
    "a = float(input(\"enter any number : \"))\n",
    "b = float(input(\"enter any number : \"))\n",
    "operation = input(\"enter operation you want : (/,+) : \")\n",
    "addition = a + b\n",
    "division = a / b\n",
    "if operation == \"+\":\n",
    "    print(addition)\n",
    "elif operation == \"/\":\n",
    "    print(division)\n",
    "else:\n",
    "    print(\"enter valid operation\")"
   ]
  },
  {
   "cell_type": "markdown",
   "id": "faa9ad6d",
   "metadata": {},
   "source": [
    "# 3.\tWrite a Python program to find the area of a triangle?"
   ]
  },
  {
   "cell_type": "code",
   "execution_count": 5,
   "id": "000764e6",
   "metadata": {},
   "outputs": [
    {
     "name": "stdout",
     "output_type": "stream",
     "text": [
      "Enter first side : 4\n",
      "Enter second side : 5\n",
      "Enter third side : 6\n",
      "the area of the triangle is :  9.921567416492215\n"
     ]
    }
   ],
   "source": [
    "a = float(input(\"Enter first side : \"))\n",
    "b = float(input(\"Enter second side : \"))\n",
    "c = float(input(\"Enter third side : \"))\n",
    "s = (a + b + c) / 2 \n",
    "area = (s*(s-a)*(s-b)*(s-c)) ** 0.5  \n",
    "print(\"the area of the triangle is : \", area)"
   ]
  },
  {
   "cell_type": "markdown",
   "id": "676eea3a",
   "metadata": {},
   "source": [
    "# 4.\tWrite a Python program to swap two variables?"
   ]
  },
  {
   "cell_type": "code",
   "execution_count": 10,
   "id": "684bcbe5",
   "metadata": {},
   "outputs": [
    {
     "name": "stdout",
     "output_type": "stream",
     "text": [
      "enter value : 5\n",
      "enter value : 4\n",
      "4.0\n",
      "5.0\n"
     ]
    }
   ],
   "source": [
    "x=float(input(\"enter value : \"))\n",
    "y=float(input(\"enter value : \"))\n",
    "x,y=y,x\n",
    "print(x)\n",
    "print(y)"
   ]
  },
  {
   "cell_type": "markdown",
   "id": "f7c450cf",
   "metadata": {},
   "source": [
    "# 5.\tWrite a Python program to generate a random number?"
   ]
  },
  {
   "cell_type": "code",
   "execution_count": 11,
   "id": "3c469f20",
   "metadata": {},
   "outputs": [
    {
     "name": "stdout",
     "output_type": "stream",
     "text": [
      "9591\n"
     ]
    }
   ],
   "source": [
    "from random import randint\n",
    "random_number = randint(1,10000)\n",
    "print(random_number)"
   ]
  }
 ],
 "metadata": {
  "kernelspec": {
   "display_name": "Python 3 (ipykernel)",
   "language": "python",
   "name": "python3"
  },
  "language_info": {
   "codemirror_mode": {
    "name": "ipython",
    "version": 3
   },
   "file_extension": ".py",
   "mimetype": "text/x-python",
   "name": "python",
   "nbconvert_exporter": "python",
   "pygments_lexer": "ipython3",
   "version": "3.9.12"
  }
 },
 "nbformat": 4,
 "nbformat_minor": 5
}
