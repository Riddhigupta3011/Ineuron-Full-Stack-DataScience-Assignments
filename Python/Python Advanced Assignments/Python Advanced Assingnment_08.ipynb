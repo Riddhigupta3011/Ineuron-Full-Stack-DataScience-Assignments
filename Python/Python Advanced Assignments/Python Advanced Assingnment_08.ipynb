{
 "cells": [
  {
   "cell_type": "markdown",
   "id": "4ef01083",
   "metadata": {},
   "source": [
    "\n",
    "## Q1. What are the two latest user-defined exception constraints in Python 3.X?"
   ]
  },
  {
   "cell_type": "markdown",
   "id": "09262f70",
   "metadata": {},
   "source": [
    "1. Python allows users to define their own exceptions by creating classes that inherit from the built-in `Exception` class or its subclasses. These classes can then be used to raise and handle custom exceptions in your code."
   ]
  },
  {
   "cell_type": "markdown",
   "id": "486bbfbb",
   "metadata": {},
   "source": [
    "## Q2. How are class-based exceptions that have been raised matched to handlers?**"
   ]
  },
  {
   "cell_type": "markdown",
   "id": "f63aaff9",
   "metadata": {},
   "source": [
    "1. When a class-based exception is raised in Python, the interpreter searches for an appropriate exception handler to handle the exception. It does this by examining the inheritance hierarchy of the exception classes.\n",
    "\n",
    "    Python matches exceptions to handlers by checking them in the following order:\n",
    "\n",
    "    1. **Exact Match**: The interpreter first checks if the raised exception class exactly matches any of the except clauses. If it finds a match, the corresponding handler is executed.\n",
    "\n",
    "    2. **Inheritance Match**: If an exact match is not found, Python then looks for handlers that match parent classes of the raised exception. The interpreter traverses up the inheritance hierarchy until a matching handler is found.\n",
    "\n",
    "    3. **Base Exception**: If no specific or inherited match is found, Python looks for an `except` block that handles the base `Exception` class. This is the ultimate fallback handler and will catch any exception that hasn't been caught by more specific handlers.\n"
   ]
  },
  {
   "cell_type": "markdown",
   "id": "963c2698",
   "metadata": {},
   "source": [
    "## Q3. Describe two methods for attaching context information to exception artifacts."
   ]
  },
  {
   "cell_type": "markdown",
   "id": "b796cae7",
   "metadata": {},
   "source": [
    "1. **Custom Exception Attributes**: You can attach context information to your exception classes by adding custom attributes to them. This allows you to provide additional information about the exception's context when it's raised. For example:\n"
   ]
  },
  {
   "cell_type": "code",
   "execution_count": 17,
   "id": "bea0b676",
   "metadata": {},
   "outputs": [
    {
     "ename": "CustomException",
     "evalue": "An error occurred.",
     "output_type": "error",
     "traceback": [
      "\u001b[1;31m---------------------------------------------------------------------------\u001b[0m",
      "\u001b[1;31mZeroDivisionError\u001b[0m                         Traceback (most recent call last)",
      "Input \u001b[1;32mIn [17]\u001b[0m, in \u001b[0;36m<cell line: 6>\u001b[1;34m()\u001b[0m\n\u001b[0;32m      6\u001b[0m \u001b[38;5;28;01mtry\u001b[39;00m:\n\u001b[0;32m      7\u001b[0m     \u001b[38;5;66;03m# some code that may raise the exception\u001b[39;00m\n\u001b[0;32m      8\u001b[0m     \u001b[38;5;66;03m# For example:\u001b[39;00m\n\u001b[1;32m----> 9\u001b[0m     result \u001b[38;5;241m=\u001b[39m \u001b[38;5;241;43m10\u001b[39;49m\u001b[43m \u001b[49m\u001b[38;5;241;43m/\u001b[39;49m\u001b[43m \u001b[49m\u001b[38;5;241;43m0\u001b[39;49m  \u001b[38;5;66;03m# This will raise a ZeroDivisionError\u001b[39;00m\n\u001b[0;32m     10\u001b[0m \u001b[38;5;28;01mexcept\u001b[39;00m \u001b[38;5;167;01mZeroDivisionError\u001b[39;00m \u001b[38;5;28;01mas\u001b[39;00m e:\n",
      "\u001b[1;31mZeroDivisionError\u001b[0m: division by zero",
      "\nDuring handling of the above exception, another exception occurred:\n",
      "\u001b[1;31mCustomException\u001b[0m                           Traceback (most recent call last)",
      "Input \u001b[1;32mIn [17]\u001b[0m, in \u001b[0;36m<cell line: 6>\u001b[1;34m()\u001b[0m\n\u001b[0;32m      9\u001b[0m     result \u001b[38;5;241m=\u001b[39m \u001b[38;5;241m10\u001b[39m \u001b[38;5;241m/\u001b[39m \u001b[38;5;241m0\u001b[39m  \u001b[38;5;66;03m# This will raise a ZeroDivisionError\u001b[39;00m\n\u001b[0;32m     10\u001b[0m \u001b[38;5;28;01mexcept\u001b[39;00m \u001b[38;5;167;01mZeroDivisionError\u001b[39;00m \u001b[38;5;28;01mas\u001b[39;00m e:\n\u001b[1;32m---> 11\u001b[0m     \u001b[38;5;28;01mraise\u001b[39;00m CustomException(\u001b[38;5;124m\"\u001b[39m\u001b[38;5;124mAn error occurred.\u001b[39m\u001b[38;5;124m\"\u001b[39m, context\u001b[38;5;241m=\u001b[39m\u001b[38;5;124m\"\u001b[39m\u001b[38;5;124mAdditional context\u001b[39m\u001b[38;5;124m\"\u001b[39m)\n",
      "\u001b[1;31mCustomException\u001b[0m: An error occurred."
     ]
    }
   ],
   "source": [
    "class CustomException(Exception):\n",
    "    def __init__(self, message, context=None):\n",
    "        super().__init__(message)\n",
    "        self.context = context\n",
    "\n",
    "try:\n",
    "    # some code that may raise the exception\n",
    "    # For example:\n",
    "    result = 10 / 0  # This will raise a ZeroDivisionError\n",
    "except ZeroDivisionError as e:\n",
    "    raise CustomException(\"An error occurred.\", context=\"Additional context\")"
   ]
  },
  {
   "cell_type": "markdown",
   "id": "41f24a4e",
   "metadata": {},
   "source": [
    "2. **Exception Chaining**: When catching one exception and raising another, you can use the `from` keyword to attach the original exception as context for the new one. This helps in preserving the original exception information. For example:\n"
   ]
  },
  {
   "cell_type": "code",
   "execution_count": 18,
   "id": "faa34397",
   "metadata": {},
   "outputs": [
    {
     "ename": "CustomException",
     "evalue": "An error occurred.",
     "output_type": "error",
     "traceback": [
      "\u001b[1;31m---------------------------------------------------------------------------\u001b[0m",
      "\u001b[1;31mZeroDivisionError\u001b[0m                         Traceback (most recent call last)",
      "Input \u001b[1;32mIn [18]\u001b[0m, in \u001b[0;36m<cell line: 6>\u001b[1;34m()\u001b[0m\n\u001b[0;32m      6\u001b[0m \u001b[38;5;28;01mtry\u001b[39;00m:\n\u001b[0;32m      7\u001b[0m     \u001b[38;5;66;03m# some code that may raise the exception\u001b[39;00m\n\u001b[0;32m      8\u001b[0m     \u001b[38;5;66;03m# For example:\u001b[39;00m\n\u001b[1;32m----> 9\u001b[0m     result \u001b[38;5;241m=\u001b[39m \u001b[38;5;241;43m10\u001b[39;49m\u001b[43m \u001b[49m\u001b[38;5;241;43m/\u001b[39;49m\u001b[43m \u001b[49m\u001b[38;5;241;43m0\u001b[39;49m  \u001b[38;5;66;03m# This will raise a ZeroDivisionError\u001b[39;00m\n\u001b[0;32m     10\u001b[0m \u001b[38;5;28;01mexcept\u001b[39;00m \u001b[38;5;167;01mZeroDivisionError\u001b[39;00m \u001b[38;5;28;01mas\u001b[39;00m e:\n",
      "\u001b[1;31mZeroDivisionError\u001b[0m: division by zero",
      "\nThe above exception was the direct cause of the following exception:\n",
      "\u001b[1;31mCustomException\u001b[0m                           Traceback (most recent call last)",
      "Input \u001b[1;32mIn [18]\u001b[0m, in \u001b[0;36m<cell line: 6>\u001b[1;34m()\u001b[0m\n\u001b[0;32m      9\u001b[0m     result \u001b[38;5;241m=\u001b[39m \u001b[38;5;241m10\u001b[39m \u001b[38;5;241m/\u001b[39m \u001b[38;5;241m0\u001b[39m  \u001b[38;5;66;03m# This will raise a ZeroDivisionError\u001b[39;00m\n\u001b[0;32m     10\u001b[0m \u001b[38;5;28;01mexcept\u001b[39;00m \u001b[38;5;167;01mZeroDivisionError\u001b[39;00m \u001b[38;5;28;01mas\u001b[39;00m e:\n\u001b[1;32m---> 11\u001b[0m     \u001b[38;5;28;01mraise\u001b[39;00m CustomException(\u001b[38;5;124m\"\u001b[39m\u001b[38;5;124mAn error occurred.\u001b[39m\u001b[38;5;124m\"\u001b[39m) \u001b[38;5;28;01mfrom\u001b[39;00m \u001b[38;5;21;01me\u001b[39;00m\n",
      "\u001b[1;31mCustomException\u001b[0m: An error occurred."
     ]
    }
   ],
   "source": [
    "class CustomException(Exception):\n",
    "    def __init__(self, message, context=None):\n",
    "        super().__init__(message)\n",
    "        self.context = context\n",
    "        \n",
    "try:\n",
    "    # some code that may raise the exception\n",
    "    # For example:\n",
    "    result = 10 / 0  # This will raise a ZeroDivisionError\n",
    "except ZeroDivisionError as e:\n",
    "    raise CustomException(\"An error occurred.\") from e\n"
   ]
  },
  {
   "cell_type": "markdown",
   "id": "43a9248a",
   "metadata": {},
   "source": [
    "## Q4. Describe two methods for specifying the text of an exception object's error message."
   ]
  },
  {
   "cell_type": "markdown",
   "id": "c7474819",
   "metadata": {},
   "source": [
    "1. **Custom Exception Message**: You can provide a custom error message when raising an exception by passing the message as an argument to the exception class constructor. For example:"
   ]
  },
  {
   "cell_type": "code",
   "execution_count": 19,
   "id": "c1443886",
   "metadata": {},
   "outputs": [
    {
     "ename": "CustomException",
     "evalue": "This is a custom error message.",
     "output_type": "error",
     "traceback": [
      "\u001b[1;31m---------------------------------------------------------------------------\u001b[0m",
      "\u001b[1;31mZeroDivisionError\u001b[0m                         Traceback (most recent call last)",
      "Input \u001b[1;32mIn [19]\u001b[0m, in \u001b[0;36m<cell line: 4>\u001b[1;34m()\u001b[0m\n\u001b[0;32m      4\u001b[0m \u001b[38;5;28;01mtry\u001b[39;00m:\n\u001b[1;32m----> 5\u001b[0m     result \u001b[38;5;241m=\u001b[39m \u001b[38;5;241;43m10\u001b[39;49m\u001b[43m \u001b[49m\u001b[38;5;241;43m/\u001b[39;49m\u001b[43m \u001b[49m\u001b[38;5;241;43m0\u001b[39;49m\n\u001b[0;32m      6\u001b[0m     \u001b[38;5;66;03m# some code that may raise the exception\u001b[39;00m\n",
      "\u001b[1;31mZeroDivisionError\u001b[0m: division by zero",
      "\nDuring handling of the above exception, another exception occurred:\n",
      "\u001b[1;31mCustomException\u001b[0m                           Traceback (most recent call last)",
      "Input \u001b[1;32mIn [19]\u001b[0m, in \u001b[0;36m<cell line: 4>\u001b[1;34m()\u001b[0m\n\u001b[0;32m      6\u001b[0m     \u001b[38;5;66;03m# some code that may raise the exception\u001b[39;00m\n\u001b[0;32m      7\u001b[0m \u001b[38;5;28;01mexcept\u001b[39;00m \u001b[38;5;167;01mZeroDivisionError\u001b[39;00m:\n\u001b[1;32m----> 8\u001b[0m     \u001b[38;5;28;01mraise\u001b[39;00m CustomException(\u001b[38;5;124m\"\u001b[39m\u001b[38;5;124mThis is a custom error message.\u001b[39m\u001b[38;5;124m\"\u001b[39m)\n",
      "\u001b[1;31mCustomException\u001b[0m: This is a custom error message."
     ]
    }
   ],
   "source": [
    "class CustomException(Exception):\n",
    "    pass\n",
    "\n",
    "try:\n",
    "    result = 10 / 0\n",
    "    # some code that may raise the exception\n",
    "except ZeroDivisionError:\n",
    "    raise CustomException(\"This is a custom error message.\")\n",
    "\n"
   ]
  },
  {
   "cell_type": "markdown",
   "id": "82388363",
   "metadata": {},
   "source": [
    "\n",
    "2. **String Formatting**: You can use string formatting to dynamically generate the error message before raising an exception. This can be useful when you want to include specific information in the message. For example:\n"
   ]
  },
  {
   "cell_type": "code",
   "execution_count": 20,
   "id": "26f8c0b3",
   "metadata": {},
   "outputs": [
    {
     "ename": "CustomException",
     "evalue": "An error occurred: division by zero",
     "output_type": "error",
     "traceback": [
      "\u001b[1;31m---------------------------------------------------------------------------\u001b[0m",
      "\u001b[1;31mZeroDivisionError\u001b[0m                         Traceback (most recent call last)",
      "Input \u001b[1;32mIn [20]\u001b[0m, in \u001b[0;36m<cell line: 4>\u001b[1;34m()\u001b[0m\n\u001b[0;32m      4\u001b[0m \u001b[38;5;28;01mtry\u001b[39;00m:\n\u001b[1;32m----> 5\u001b[0m     result \u001b[38;5;241m=\u001b[39m \u001b[38;5;241;43m10\u001b[39;49m\u001b[38;5;241;43m/\u001b[39;49m\u001b[38;5;241;43m0\u001b[39;49m  \u001b[38;5;66;03m# This will raise a ZeroDivisionError\u001b[39;00m\n\u001b[0;32m      6\u001b[0m     \u001b[38;5;66;03m# some code that may raise the exception\u001b[39;00m\n",
      "\u001b[1;31mZeroDivisionError\u001b[0m: division by zero",
      "\nDuring handling of the above exception, another exception occurred:\n",
      "\u001b[1;31mCustomException\u001b[0m                           Traceback (most recent call last)",
      "Input \u001b[1;32mIn [20]\u001b[0m, in \u001b[0;36m<cell line: 4>\u001b[1;34m()\u001b[0m\n\u001b[0;32m      7\u001b[0m \u001b[38;5;28;01mexcept\u001b[39;00m \u001b[38;5;167;01mZeroDivisionError\u001b[39;00m \u001b[38;5;28;01mas\u001b[39;00m e:\n\u001b[0;32m      8\u001b[0m     error_message \u001b[38;5;241m=\u001b[39m \u001b[38;5;124mf\u001b[39m\u001b[38;5;124m\"\u001b[39m\u001b[38;5;124mAn error occurred: \u001b[39m\u001b[38;5;132;01m{\u001b[39;00m\u001b[38;5;28mstr\u001b[39m(e)\u001b[38;5;132;01m}\u001b[39;00m\u001b[38;5;124m\"\u001b[39m\n\u001b[1;32m----> 9\u001b[0m     \u001b[38;5;28;01mraise\u001b[39;00m CustomException(error_message)\n",
      "\u001b[1;31mCustomException\u001b[0m: An error occurred: division by zero"
     ]
    }
   ],
   "source": [
    "class CustomException(Exception):\n",
    "    pass\n",
    "\n",
    "try:\n",
    "    result = 10/0  # This will raise a ZeroDivisionError\n",
    "    # some code that may raise the exception\n",
    "except ZeroDivisionError as e:\n",
    "    error_message = f\"An error occurred: {str(e)}\"\n",
    "    raise CustomException(error_message)\n"
   ]
  },
  {
   "cell_type": "markdown",
   "id": "cb27d2f5",
   "metadata": {},
   "source": [
    "## Q5. Why do you no longer use string-based exceptions?"
   ]
  },
  {
   "cell_type": "markdown",
   "id": "76c78121",
   "metadata": {},
   "source": [
    "String-based exceptions were used in older versions of Python, but they had several drawbacks:\n",
    "\n",
    "- **Lack of Clarity**: String-based exceptions didn't provide a clear hierarchy or structure for handling different types of exceptions. Developers had to rely on parsing strings to determine the nature of the error.\n",
    "\n",
    "- **Limited Information**: String-based exceptions couldn't carry additional context or metadata, making it harder to understand the underlying cause of the error.\n",
    "\n",
    "- **Error Handling**: It was challenging to handle string-based exceptions precisely using `except` clauses based on exception type.\n",
    "\n",
    "With the introduction of class-based exceptions, Python resolved these limitations. Class-based exceptions provide a clear hierarchy, support attaching context information, and enable more precise and structured error handling. Therefore, string-based exceptions are no longer used in modern Python programming."
   ]
  },
  {
   "cell_type": "code",
   "execution_count": null,
   "id": "7e92662b",
   "metadata": {},
   "outputs": [],
   "source": []
  }
 ],
 "metadata": {
  "kernelspec": {
   "display_name": "Python 3 (ipykernel)",
   "language": "python",
   "name": "python3"
  },
  "language_info": {
   "codemirror_mode": {
    "name": "ipython",
    "version": 3
   },
   "file_extension": ".py",
   "mimetype": "text/x-python",
   "name": "python",
   "nbconvert_exporter": "python",
   "pygments_lexer": "ipython3",
   "version": "3.9.12"
  }
 },
 "nbformat": 4,
 "nbformat_minor": 5
}
