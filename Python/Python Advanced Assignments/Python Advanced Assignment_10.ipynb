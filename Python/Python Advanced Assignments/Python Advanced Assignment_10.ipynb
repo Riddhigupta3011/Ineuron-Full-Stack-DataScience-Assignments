{
 "cells": [
  {
   "cell_type": "markdown",
   "id": "7747efc8",
   "metadata": {},
   "source": [
    "## Q1. What is the difference between `__getattr__` and `__getattribute__`?"
   ]
  },
  {
   "cell_type": "markdown",
   "id": "76f342b1",
   "metadata": {},
   "source": [
    "**Ans**: Both `__getattr__` and `__getattribute__` are special methods in Python classes, but they serve different purposes:\n",
    "\n",
    "- `__getattr__`: This method is called when an attribute that doesn't exist on an object is accessed. It allows you to define a default behavior for accessing non-existing attributes. This method is only invoked when the attribute is not found through normal means (e.g., not present as an instance variable or in the class dictionary).\n",
    "\n",
    "- `__getattribute__`: This method is called for every attribute access, regardless of whether the attribute exists or not. It's a more general method that allows you to customize attribute access for all attributes on the object.\n",
    "\n",
    "In essence, `__getattr__` is only invoked when the requested attribute is not found, while `__getattribute__` is invoked for every attribute access."
   ]
  },
  {
   "cell_type": "markdown",
   "id": "3353c73e",
   "metadata": {},
   "source": [
    "## Q2. What is the difference between properties and descriptors?"
   ]
  },
  {
   "cell_type": "markdown",
   "id": "924c8291",
   "metadata": {},
   "source": [
    "**Ans**: Both properties and descriptors are used to control attribute access in Python, but they have different levels of customization:\n",
    "\n",
    "- Properties: Properties are a simplified way to customize the behavior of attribute access, particularly for getting, setting, and deleting attributes. They allow you to define getter, setter, and deleter methods that are invoked when the corresponding operations are performed on the attribute. Properties are defined using the `@property`, `@<attribute_name>.setter`, and `@<attribute_name>.deleter` decorators.\n",
    "\n",
    "- Descriptors: Descriptors provide a more powerful and flexible way to customize attribute access. A descriptor is a class that implements at least one of the special methods: `__get__`, `__set__`, or `__delete__`. These methods are called when the descriptor is accessed, assigned to, or deleted, respectively. Descriptors can be reused across multiple attributes.\n",
    "\n",
    "In summary, properties offer a simpler way to customize attribute access for a specific attribute, while descriptors provide a more comprehensive mechanism to customize attribute access behavior that can be shared across multiple attributes."
   ]
  },
  {
   "cell_type": "markdown",
   "id": "15ea1c59",
   "metadata": {},
   "source": [
    "## Q3. What are the key differences in functionality between `__getattr__` and `__getattribute__`, as well as properties and descriptors?"
   ]
  },
  {
   "cell_type": "markdown",
   "id": "f3d21ff4",
   "metadata": {},
   "source": [
    "**Ans**: Here are the key differences:\n",
    "\n",
    "- `__getattr__` vs. `__getattribute__`: \n",
    "  - `__getattr__` is called only when an attribute is not found through normal attribute lookup.\n",
    "  - `__getattribute__` is called for every attribute access, regardless of whether the attribute exists or not.\n",
    "\n",
    "- Properties vs. Descriptors:\n",
    "  - Properties provide a way to customize attribute access (get, set, delete) for a specific attribute using decorators.\n",
    "  - Descriptors offer a more versatile mechanism to customize attribute access by defining special methods that control the behavior of getting, setting, and deleting attributes, and they can be shared among multiple attributes.\n",
    "\n",
    "In both cases, the choice of which approach to use depends on the level of customization required and the complexity of the desired behavior for attribute access."
   ]
  },
  {
   "cell_type": "code",
   "execution_count": null,
   "id": "8abf758f",
   "metadata": {},
   "outputs": [],
   "source": []
  }
 ],
 "metadata": {
  "kernelspec": {
   "display_name": "Python 3 (ipykernel)",
   "language": "python",
   "name": "python3"
  },
  "language_info": {
   "codemirror_mode": {
    "name": "ipython",
    "version": 3
   },
   "file_extension": ".py",
   "mimetype": "text/x-python",
   "name": "python",
   "nbconvert_exporter": "python",
   "pygments_lexer": "ipython3",
   "version": "3.9.12"
  }
 },
 "nbformat": 4,
 "nbformat_minor": 5
}
