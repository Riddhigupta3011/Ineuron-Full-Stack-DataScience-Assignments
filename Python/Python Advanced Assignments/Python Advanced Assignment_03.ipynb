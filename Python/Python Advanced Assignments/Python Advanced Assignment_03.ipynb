{
 "cells": [
  {
   "cell_type": "markdown",
   "id": "d2932d74",
   "metadata": {},
   "source": [
    "## 1. What is the concept of an abstract superclass?"
   ]
  },
  {
   "cell_type": "markdown",
   "id": "d2a7a9ff",
   "metadata": {},
   "source": [
    "\n",
    "1. **Abstract Superclass:**\n",
    "   Imagine an abstract superclass as a master plan for building different types of objects. It's like a template that other classes can follow. This template includes the basic structure and some requirements, like \"you must have these methods.\" However, it doesn't give you everything; you need to fill in the missing parts when you create a new class. It's a way to make sure that related classes have some common features.\n",
    "\n",
    "   **Example:**\n",
    "   Think of a superhero academy. The \"Superhero\" class might be an abstract superclass. It says every superhero must have a name and a power, but it doesn't define a specific superhero. Subclasses like \"Spider-Man\" or \"Wonder Woman\" then fill in the details.\n"
   ]
  },
  {
   "cell_type": "markdown",
   "id": "5fee717d",
   "metadata": {},
   "source": [
    "## 2. What happens when a class statement&#39;s top level contains a basic assignment statement?"
   ]
  },
  {
   "cell_type": "markdown",
   "id": "e53751c0",
   "metadata": {},
   "source": [
    "2. **Class Statement with Basic Assignment:**\n",
    "   When you use a basic assignment at the top of a class, you're creating something that all instances (objects) of that class will share. It's like having a set of instructions that everyone in a group follows. Anything defined like this belongs to the whole group, not just one person.\n",
    "\n",
    "   **Example:**\n",
    "   Imagine you're in a club, and there's a dress code. The dress code is like the basic assignment in a class. Everyone in the club follows the same rules, so they all have the same \"attribute.\"\n"
   ]
  },
  {
   "cell_type": "markdown",
   "id": "f37e123a",
   "metadata": {},
   "source": [
    "## 3. Why does a class need to manually call a superclass&#39;s __init__ method?"
   ]
  },
  {
   "cell_type": "markdown",
   "id": "375a02a4",
   "metadata": {},
   "source": [
    "3. **Manually Calling Superclass's `__init__` Method:**\n",
    "   When you have a class that's related to another class (a parent class), you want to make sure that the parent's important stuff gets done when you create an instance of the child class. It's like when you inherit qualities from your parents, you still need to make sure they've done their part in raising you. So, you manually call the parent's setup when you're setting up the child.\n",
    "\n",
    "   **Example:**\n",
    "   Think of baking. If you're making a new type of cake (child class), you want to start with the basic cake recipe (parent class) before adding your special ingredients.\n"
   ]
  },
  {
   "cell_type": "markdown",
   "id": "11a8d257",
   "metadata": {},
   "source": [
    "## 4. How can you augment, instead of completely replacing, an inherited method?"
   ]
  },
  {
   "cell_type": "markdown",
   "id": "8b8e8599",
   "metadata": {},
   "source": [
    "4. **Augmenting an Inherited Method:**\n",
    "   Imagine you learned a recipe from your grandmother and now want to add your own twist to it. You wouldn't start from scratch, right? You'd use her recipe as a base and then make your modifications. In programming, you can do the same thing. When you inherit a method from a parent class, you can build on it without throwing away everything your parent did.\n",
    "\n",
    "   **Example:**\n",
    "   Let's say you're making a game where characters can move. The parent class has a basic `move()` method. In your subclass, you can use that method but add special effects or animations to it.\n"
   ]
  },
  {
   "cell_type": "markdown",
   "id": "7199c986",
   "metadata": {},
   "source": [
    "## 5. How is the local scope of a class different from that of a function?"
   ]
  },
  {
   "cell_type": "markdown",
   "id": "1e9e0e01",
   "metadata": {},
   "source": [
    "5. **Local Scope in Class vs. Function:**\n",
    "   Think of a scope as a space where you can see and use things. A class and a function are like different rooms. In the class room, you can see all the furniture (attributes) and use them. In the function room, you can only see what's inside that room. You can't take the furniture from the class room into the function room.\n",
    "\n",
    "   **Example:**\n",
    "   In a class (room), you can access variables like `self.name` from any method. But in a function (room), you can only access variables that are defined inside that function."
   ]
  },
  {
   "cell_type": "code",
   "execution_count": 1,
   "id": "cb1db4ff",
   "metadata": {},
   "outputs": [
    {
     "name": "stdout",
     "output_type": "stream",
     "text": [
      "5\n",
      "10\n",
      "3\n"
     ]
    }
   ],
   "source": [
    "# Abstract Superclass\n",
    "from abc import ABC, abstractmethod\n",
    "\n",
    "class Shape(ABC):\n",
    "    @abstractmethod\n",
    "    def area(self):\n",
    "        pass\n",
    "\n",
    "class Circle(Shape):\n",
    "    def __init__(self, radius):\n",
    "        self.radius = radius\n",
    "\n",
    "    def area(self):\n",
    "        return 3.14 * self.radius * self.radius\n",
    "\n",
    "# Class Statement with Basic Assignment\n",
    "class Dog:\n",
    "    species = \"Canine\"\n",
    "\n",
    "    def __init__(self, name):\n",
    "        self.name = name\n",
    "\n",
    "# Manually Calling Superclass's __init__ Method\n",
    "class Parent:\n",
    "    def __init__(self, name):\n",
    "        self.name = name\n",
    "\n",
    "class Child(Parent):\n",
    "    def __init__(self, name, age):\n",
    "        super().__init__(name)\n",
    "        self.age = age\n",
    "\n",
    "# Augmenting an Inherited Method\n",
    "class Parent:\n",
    "    def greet(self):\n",
    "        return \"Hello\"\n",
    "\n",
    "class Child(Parent):\n",
    "    def greet(self):\n",
    "        parent_greeting = super().greet()\n",
    "        return parent_greeting + \", how are you?\"\n",
    "\n",
    "# Local Scope in Class vs. Function\n",
    "class MyClass:\n",
    "    class_variable = 10\n",
    "\n",
    "    def __init__(self):\n",
    "        self.instance_variable = 5\n",
    "\n",
    "    def my_method(self):\n",
    "        local_variable = 3\n",
    "        print(local_variable)\n",
    "\n",
    "obj = MyClass()\n",
    "print(obj.instance_variable)  # Output: 5\n",
    "print(MyClass.class_variable)  # Output: 10\n",
    "obj.my_method()               # Output: 3\n"
   ]
  },
  {
   "cell_type": "code",
   "execution_count": null,
   "id": "64307a06",
   "metadata": {},
   "outputs": [],
   "source": []
  }
 ],
 "metadata": {
  "kernelspec": {
   "display_name": "Python 3 (ipykernel)",
   "language": "python",
   "name": "python3"
  },
  "language_info": {
   "codemirror_mode": {
    "name": "ipython",
    "version": 3
   },
   "file_extension": ".py",
   "mimetype": "text/x-python",
   "name": "python",
   "nbconvert_exporter": "python",
   "pygments_lexer": "ipython3",
   "version": "3.9.12"
  }
 },
 "nbformat": 4,
 "nbformat_minor": 5
}
