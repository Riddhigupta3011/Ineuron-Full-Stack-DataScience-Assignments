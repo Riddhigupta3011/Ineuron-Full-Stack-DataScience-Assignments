{
 "cells": [
  {
   "cell_type": "markdown",
   "id": "5e578d24",
   "metadata": {},
   "source": [
    "\n",
    "## 1. Describe three applications for exception processing."
   ]
  },
  {
   "cell_type": "markdown",
   "id": "39b4a572",
   "metadata": {},
   "source": [
    "1. Exception processing is used in various scenarios to handle unexpected situations in a program:\n",
    "   1. **Input Validation:** When taking user input, exceptions can be used to handle cases where the input doesn't match the expected format or range.\n",
    "   2. **File Handling:** When reading or writing files, exceptions can handle cases like file not found, permission issues, or unexpected file content.\n",
    "   3. **Network Communication:** Exception handling is crucial when dealing with network connections, as network errors like timeouts or connection failures can occur.\n"
   ]
  },
  {
   "cell_type": "markdown",
   "id": "6bcda5cd",
   "metadata": {},
   "source": [
    "## 2. What happens if you don't do something extra to treat an exception?"
   ]
  },
  {
   "cell_type": "markdown",
   "id": "db0a5d8d",
   "metadata": {},
   "source": [
    "2. If you don't handle an exception, it will result in the program terminating abruptly and displaying an error message traceback. This can be problematic for both the user and the program's functionality, as it leaves the program in an undefined state and doesn't provide a graceful way to recover from the error.\n"
   ]
  },
  {
   "cell_type": "markdown",
   "id": "70d98ce9",
   "metadata": {},
   "source": [
    "## 3. What are your options for recovering from an exception in your script?"
   ]
  },
  {
   "cell_type": "markdown",
   "id": "bd24966c",
   "metadata": {},
   "source": [
    "3. There are several options to recover from an exception:\n",
    "   1. **Exception Handling:** Use `try`...`except` blocks to catch specific exceptions and execute alternative code paths to handle the error gracefully.\n",
    "   2. **Logging:** Log the exception details for debugging purposes and then allow the program to continue running.\n",
    "   3. **Retrying:** Implement logic to retry the operation that caused the exception, which can be useful for transient errors.\n"
   ]
  },
  {
   "cell_type": "markdown",
   "id": "1851921c",
   "metadata": {},
   "source": [
    "## 4. Describe two methods for triggering exceptions in your script."
   ]
  },
  {
   "cell_type": "markdown",
   "id": "43dc13d4",
   "metadata": {},
   "source": [
    "4. You can trigger exceptions intentionally for testing or specific handling:\n",
    "   1. **Raise Statement:** Use the `raise` statement to manually raise exceptions. For example, `raise ValueError(\"Invalid input\")` raises a `ValueError` exception with a custom error message.\n",
    "   2. **AssertionError:** Use the `assert` statement to raise an `AssertionError` if a given condition is `False`. For instance, `assert x > 0, \"x must be positive\"`.\n"
   ]
  },
  {
   "cell_type": "markdown",
   "id": "12a2ac66",
   "metadata": {},
   "source": [
    "## 5. Identify two methods for specifying actions to be executed at termination time, regardless of whether or not an exception exists."
   ]
  },
  {
   "cell_type": "markdown",
   "id": "bc232fdb",
   "metadata": {},
   "source": [
    "5. You can ensure certain actions are taken upon script termination:\n",
    "   1. **Using finally:** In a `try`...`finally` block, the `finally` block will execute even if an exception occurs, making it suitable for cleanup operations.\n",
    "   2. **Using atexit:** The `atexit` module provides the `register()` function to specify functions that should be executed when the program terminates, either normally or due to an unhandled exception.\n"
   ]
  },
  {
   "cell_type": "code",
   "execution_count": null,
   "id": "591cb5a6",
   "metadata": {},
   "outputs": [],
   "source": []
  }
 ],
 "metadata": {
  "kernelspec": {
   "display_name": "Python 3 (ipykernel)",
   "language": "python",
   "name": "python3"
  },
  "language_info": {
   "codemirror_mode": {
    "name": "ipython",
    "version": 3
   },
   "file_extension": ".py",
   "mimetype": "text/x-python",
   "name": "python",
   "nbconvert_exporter": "python",
   "pygments_lexer": "ipython3",
   "version": "3.9.12"
  }
 },
 "nbformat": 4,
 "nbformat_minor": 5
}
