{
 "cells": [
  {
   "cell_type": "markdown",
   "id": "173a906b",
   "metadata": {},
   "source": [
    "## 1. What is the meaning of multiple inheritance?"
   ]
  },
  {
   "cell_type": "markdown",
   "id": "2c76a618",
   "metadata": {},
   "source": [
    "\n",
    "\n",
    "1. **Meaning of Multiple Inheritance:**\n",
    "   Multiple inheritance refers to a situation in object-oriented programming where a class inherits attributes and behaviors from more than one parent class. It allows a single class to combine features from different classes. For instance, if you have classes A and B, a new class C can inherit from both A and B, gaining the attributes and methods of both parent classes.\n"
   ]
  },
  {
   "cell_type": "markdown",
   "id": "0af55fb5",
   "metadata": {},
   "source": [
    "## 2. What is the concept of delegation?"
   ]
  },
  {
   "cell_type": "markdown",
   "id": "6943a5a8",
   "metadata": {},
   "source": [
    "\n",
    "2. **Concept of Delegation:**\n",
    "   Delegation is like asking someone else to do a task on your behalf. In programming, it means letting one object handle a certain task by passing it to another object. It's a way to divide and conquer tasks in a more organized manner.\n"
   ]
  },
  {
   "cell_type": "markdown",
   "id": "35622d4c",
   "metadata": {},
   "source": [
    "## 3. What is the concept of composition?"
   ]
  },
  {
   "cell_type": "markdown",
   "id": "b3e25f1c",
   "metadata": {},
   "source": [
    "\n",
    "3. **Concept of Composition:**\n",
    "   Composition is about building complex objects from simpler ones. It's like putting together Lego blocks to create something bigger and more intricate. In programming, composition involves creating objects from other objects, often by including them as attributes.\n"
   ]
  },
  {
   "cell_type": "markdown",
   "id": "9096cd74",
   "metadata": {},
   "source": [
    "## 4. What are bound methods and how do we use them?"
   ]
  },
  {
   "cell_type": "markdown",
   "id": "1e677266",
   "metadata": {},
   "source": [
    "\n",
    "4. **Bound Methods and Their Use:**\n",
    "   Bound methods are functions that are attached to a specific instance of a class. They automatically receive the instance as their first parameter, often named `self`. These methods allow instances to operate on their own data, making it easier to work with attributes and perform actions specific to that instance.\n"
   ]
  },
  {
   "cell_type": "markdown",
   "id": "c02e2e7a",
   "metadata": {},
   "source": [
    "## 5. What is the purpose of pseudoprivate attributes?"
   ]
  },
  {
   "cell_type": "markdown",
   "id": "420d49f9",
   "metadata": {},
   "source": [
    "\n",
    "5. **Purpose of Pseudoprivate Attributes:**\n",
    "   Pseudoprivate attributes are attributes in a class that start with double underscores (e.g., `__my_attribute`). They aren't truly private, but they have name mangling applied to their names, making them less likely to accidentally clash with attributes in subclasses or other classes. They're used to avoid unintentional attribute name conflicts.\n"
   ]
  },
  {
   "cell_type": "code",
   "execution_count": null,
   "id": "e845ba15",
   "metadata": {},
   "outputs": [],
   "source": []
  }
 ],
 "metadata": {
  "kernelspec": {
   "display_name": "Python 3 (ipykernel)",
   "language": "python",
   "name": "python3"
  },
  "language_info": {
   "codemirror_mode": {
    "name": "ipython",
    "version": 3
   },
   "file_extension": ".py",
   "mimetype": "text/x-python",
   "name": "python",
   "nbconvert_exporter": "python",
   "pygments_lexer": "ipython3",
   "version": "3.9.12"
  }
 },
 "nbformat": 4,
 "nbformat_minor": 5
}
