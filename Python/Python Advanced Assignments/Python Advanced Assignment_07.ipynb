{
 "cells": [
  {
   "cell_type": "markdown",
   "id": "a224c82a",
   "metadata": {},
   "source": [
    "## 1. What is the purpose of the try statement?\n"
   ]
  },
  {
   "cell_type": "markdown",
   "id": "e76b813a",
   "metadata": {},
   "source": [
    "1. The purpose of the `try` statement in Python is to handle exceptions or errors that might occur during the execution of a block of code. It allows you to write code that might raise exceptions in a controlled manner, preventing your program from crashing. By enclosing potentially error-prone code within a `try` block, you can catch and handle exceptions using `except` blocks."
   ]
  },
  {
   "cell_type": "markdown",
   "id": "5e6c8f85",
   "metadata": {},
   "source": [
    "## 2. What are the two most popular try statement variations?"
   ]
  },
  {
   "cell_type": "markdown",
   "id": "bdaee4c5",
   "metadata": {},
   "source": [
    "2. The two most popular variations of the `try` statement are:\n",
    "   1. `try`...`except`...`else`: This variation allows you to catch specific exceptions using `except` blocks and execute code in the `else` block if no exceptions are raised.\n",
    "   2. `try`...`except`...`finally`: This variation includes a `finally` block that is always executed, regardless of whether an exception was raised. It's often used for cleanup operations that need to happen regardless of the outcome.\n"
   ]
  },
  {
   "cell_type": "markdown",
   "id": "bbdea14e",
   "metadata": {},
   "source": [
    "## 3. What is the purpose of the raise statement?"
   ]
  },
  {
   "cell_type": "markdown",
   "id": "2217034f",
   "metadata": {},
   "source": [
    "3. The purpose of the `raise` statement is to manually raise exceptions in Python. You can use it to signal that something unexpected has occurred in your code. It can be used to raise built-in exceptions or custom exceptions. This is particularly useful when you want to handle specific situations by raising exceptions and then catching and handling them in an appropriate manner."
   ]
  },
  {
   "cell_type": "markdown",
   "id": "f260cdbf",
   "metadata": {},
   "source": [
    "## 4. What does the assert statement do, and what other statement is it like?"
   ]
  },
  {
   "cell_type": "markdown",
   "id": "cbe521c8",
   "metadata": {},
   "source": [
    "4. The `assert` statement is used for debugging purposes. It checks if a given condition is `True`. If the condition is `False`, it raises an `AssertionError` exception with an optional error message. It is similar to an `if` statement, but it's specifically designed to check conditions that should always be true during testing and debugging, helping you catch logical errors."
   ]
  },
  {
   "cell_type": "markdown",
   "id": "2afb248b",
   "metadata": {},
   "source": [
    "## 5. What is the purpose of the with/as argument, and what other statement is it like?"
   ]
  },
  {
   "cell_type": "markdown",
   "id": "99c423e7",
   "metadata": {},
   "source": [
    "5. The purpose of the `with/as` statement is to work with context managers in Python. Context managers are objects that define the methods `__enter__()` and `__exit__()` to set up and tear down resources. The `with` statement ensures proper resource management, including automatic cleanup even if exceptions occur. It is similar to a `try`...`finally` block, but it provides a more elegant and concise syntax for managing resources."
   ]
  },
  {
   "cell_type": "markdown",
   "id": "8e80d2f5",
   "metadata": {},
   "source": []
  }
 ],
 "metadata": {
  "kernelspec": {
   "display_name": "Python 3 (ipykernel)",
   "language": "python",
   "name": "python3"
  },
  "language_info": {
   "codemirror_mode": {
    "name": "ipython",
    "version": 3
   },
   "file_extension": ".py",
   "mimetype": "text/x-python",
   "name": "python",
   "nbconvert_exporter": "python",
   "pygments_lexer": "ipython3",
   "version": "3.9.12"
  }
 },
 "nbformat": 4,
 "nbformat_minor": 5
}
