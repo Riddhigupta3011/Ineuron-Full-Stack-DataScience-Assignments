{
 "cells": [
  {
   "cell_type": "markdown",
   "id": "4ef01083",
   "metadata": {},
   "source": [
    "\n",
    "## Q1. What are the two latest user-defined exception constraints in Python 3.X?"
   ]
  },
  {
   "cell_type": "markdown",
   "id": "d07de739",
   "metadata": {},
   "source": [
    "1. **Exception Chaining (`__cause__` and `__context__` attributes):** These attributes allow exceptions to be linked together, showing a relationship between multiple exceptions. The `__cause__` attribute signifies an exception that led to the current exception, while the `__context__` attribute provides additional context without implying a direct cause-and-effect relationship.\n",
    "\n",
    "2. **Exception Suppression (`__suppress_context__` attribute):** This attribute can be set to `True` on an exception instance to indicate that if this exception is raised within a `with` statement, it should not display the context of the previous exception. This is useful in situations where a more specific exception occurs within a broader exception handler."
   ]
  },
  {
   "cell_type": "markdown",
   "id": "486bbfbb",
   "metadata": {},
   "source": [
    "## Q2. How are class-based exceptions that have been raised matched to handlers?**"
   ]
  },
  {
   "cell_type": "markdown",
   "id": "f63aaff9",
   "metadata": {},
   "source": [
    "\n",
    "1. When a class-based exception is raised in Python, the interpreter searches for an appropriate exception handler to handle the exception. It does this by examining the inheritance hierarchy of the exception classes.\n",
    "\n",
    "    Python matches exceptions to handlers by checking them in the following order:\n",
    "\n",
    "    1. **Exact Match**: The interpreter first checks if the raised exception class exactly matches any of the except clauses. If it finds a match, the corresponding handler is executed.\n",
    "\n",
    "    2. **Inheritance Match**: If an exact match is not found, Python then looks for handlers that match parent classes of the raised exception. The interpreter traverses up the inheritance hierarchy until a matching handler is found.\n",
    "\n",
    "    3. **Base Exception**: If no specific or inherited match is found, Python looks for an `except` block that handles the base `Exception` class. This is the ultimate fallback handler and will catch any exception that hasn't been caught by more specific handlers.\n"
   ]
  },
  {
   "cell_type": "markdown",
   "id": "963c2698",
   "metadata": {},
   "source": [
    "## Q3. Describe two methods for attaching context information to exception artifacts."
   ]
  },
  {
   "cell_type": "markdown",
   "id": "4d82025d",
   "metadata": {},
   "source": [
    "1. **Exception Chaining:** This method involves associating exceptions using the `__cause__` and `__context__` attributes. By setting the `__cause__` attribute, you establish a connection between the current exception and another exception that directly caused it. On the other hand, using the `__context__` attribute establishes a contextual relationship without implying a direct cause-and-effect relationship.\n",
    "\n",
    "\n",
    "2. **Context Managers (with Statements):** You can utilize context managers, often implemented with the `with` statement, to attach context information to exceptions. If an exception occurs within the managed context, the context manager can provide details about the state of resources at the time the exception was raised. This method helps in understanding the circumstances surrounding the exception."
   ]
  },
  {
   "cell_type": "markdown",
   "id": "43a9248a",
   "metadata": {},
   "source": [
    "## Q4. Describe two methods for specifying the text of an exception object's error message."
   ]
  },
  {
   "cell_type": "markdown",
   "id": "949cb09c",
   "metadata": {},
   "source": [
    "1. **Passing a String to the Exception Constructor:** When raising a built-in or user-defined exception, you can include a string argument in the exception constructor to provide a custom error message. For instance:\n",
    "   \n",
    "   ```python\n",
    "   raise ValueError(\"This is a custom error message.\")\n",
    "   ```\n",
    "\n",
    "2. **Overriding the `__str__` Method:** By defining the `__str__` method in a custom exception class, you can control how the exception message is formatted. The `__str__` method is automatically invoked when you use `str(exception_instance)`. This approach offers more flexibility in presenting exception information."
   ]
  },
  {
   "cell_type": "markdown",
   "id": "cb27d2f5",
   "metadata": {},
   "source": [
    "## Q5. Why do you no longer use string-based exceptions?"
   ]
  },
  {
   "cell_type": "markdown",
   "id": "fda5d71d",
   "metadata": {},
   "source": [
    "In earlier versions of Python (pre-Python 2.5), string-based exceptions were employed, where exceptions were raised using string literals. However, this approach had several drawbacks that led to its abandonment:\n",
    "\n",
    "- **Limited Introspection:** String-based exceptions lacked the structured information that class-based exceptions provide. It was challenging to introspect and understand these exceptions programmatically.\n",
    "\n",
    "- **Inheritance and Hierarchies:** String-based exceptions didn't allow for hierarchical relationships, making it harder to organize exceptions based on their types and specificities.\n",
    "\n",
    "- **Typos and Consistency:** Since exception names were just strings, typos and inconsistencies in naming could lead to problems in exception handling.\n",
    "\n",
    "- **Debugging and Handling:** Debugging issues and handling different exceptions consistently was difficult due to the lack of a unified structure.\n",
    "\n",
    "With the introduction of class-based exceptions in Python 2.5 and beyond, these issues were addressed. Class-based exceptions offer a clear hierarchy, inheritance, introspection, and the ability to attach custom attributes and methods to exceptions, improving the overall exception handling process."
   ]
  },
  {
   "cell_type": "code",
   "execution_count": null,
   "id": "10a873af",
   "metadata": {},
   "outputs": [],
   "source": []
  }
 ],
 "metadata": {
  "kernelspec": {
   "display_name": "Python 3 (ipykernel)",
   "language": "python",
   "name": "python3"
  },
  "language_info": {
   "codemirror_mode": {
    "name": "ipython",
    "version": 3
   },
   "file_extension": ".py",
   "mimetype": "text/x-python",
   "name": "python",
   "nbconvert_exporter": "python",
   "pygments_lexer": "ipython3",
   "version": "3.9.12"
  }
 },
 "nbformat": 4,
 "nbformat_minor": 5
}
