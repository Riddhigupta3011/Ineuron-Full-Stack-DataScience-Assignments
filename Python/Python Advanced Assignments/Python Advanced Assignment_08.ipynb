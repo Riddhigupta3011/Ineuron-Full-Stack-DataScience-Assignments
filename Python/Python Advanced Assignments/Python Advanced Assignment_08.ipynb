{
 "cells": [
  {
   "cell_type": "markdown",
   "id": "4ef01083",
   "metadata": {},
   "source": [
    "\n",
    "## Q1. What are the two latest user-defined exception constraints in Python 3.X?"
   ]
  },
  {
   "cell_type": "markdown",
   "id": "8bafd79e",
   "metadata": {},
   "source": [
    "\n",
    "\n",
    "1. **Exception Chaining (`__cause__` and `__context__` attributes):**\n",
    "   \n",
    "   The `__cause__` and `__context__` attributes allow you to associate exceptions together, indicating their relationships. The `__cause__` attribute points to an exception that directly caused the current exception to be raised. The `__context__` attribute, on the other hand, signifies an exception that is part of the context in which the current exception occurred.\n",
    "\n",
    "   ```python\n",
    "   try:\n",
    "       # Something that might raise an exception\n",
    "       result = 10 / 0\n",
    "   except ZeroDivisionError as e:\n",
    "       raise ValueError(\"An error occurred\") from e\n",
    "   ```\n",
    "\n",
    "2. **Exception Suppression (`__suppress_context__` attribute):**\n",
    "\n",
    "   The `__suppress_context__` attribute can be used to prevent the display of the previous exception's context in case a new exception is raised within a `with` statement.\n",
    "\n",
    "   ```python\n",
    "   class CustomException(Exception):\n",
    "       def __init__(self, message, *args):\n",
    "           super().__init__(message, *args)\n",
    "           self.__suppress_context__ = True\n",
    "\n",
    "   try:\n",
    "       with open(\"nonexistent_file.txt\") as f:\n",
    "           content = f.read()\n",
    "   except FileNotFoundError as e:\n",
    "       raise CustomException(\"Custom error message\") from e\n",
    "   ```\n",
    "\n"
   ]
  },
  {
   "cell_type": "markdown",
   "id": "486bbfbb",
   "metadata": {},
   "source": [
    "## Q2. How are class-based exceptions that have been raised matched to handlers?**"
   ]
  },
  {
   "cell_type": "markdown",
   "id": "f63aaff9",
   "metadata": {},
   "source": [
    "Python matches class-based exceptions to handlers based on the inheritance hierarchy. When an exception is raised, Python starts searching for an appropriate handler by considering the exception's class. It then climbs up the class hierarchy until it finds a handler that matches the exception class.\n",
    "\n",
    "```python\n",
    "class ParentException(Exception):\n",
    "    pass\n",
    "\n",
    "class ChildException(ParentException):\n",
    "    pass\n",
    "\n",
    "try:\n",
    "    raise ChildException(\"This is an example\")\n",
    "except ParentException as e:\n",
    "    print(\"Caught an exception:\", e.__class__.__name__)\n",
    "```"
   ]
  },
  {
   "cell_type": "markdown",
   "id": "963c2698",
   "metadata": {},
   "source": [
    "## Q3. Describe two methods for attaching context information to exception artifacts."
   ]
  },
  {
   "cell_type": "markdown",
   "id": "9b310a02",
   "metadata": {},
   "source": [
    "1. **Exception Chaining:**\n",
    "\n",
    "   By using exception chaining, you can indicate the causal relationship between exceptions:\n",
    "\n",
    "   ```python\n",
    "   try:\n",
    "       # Some operation that might cause an exception\n",
    "       result = 10 / 0\n",
    "   except ZeroDivisionError as e:\n",
    "       raise ValueError(\"An error occurred\") from e\n",
    "   ```\n",
    "\n",
    "2. **Context Managers (with Statements):**\n",
    "\n",
    "   Context managers can provide additional information about the state of resources when an exception occurs:\n",
    "\n",
    "   ```python\n",
    "   class CustomContext:\n",
    "       def __enter__(self):\n",
    "           print(\"Entering the context\")\n",
    "       \n",
    "       def __exit__(self, exc_type, exc_value, traceback):\n",
    "           print(\"Exiting the context\")\n",
    "           if exc_type:\n",
    "               print(f\"An exception of type {exc_type} occurred\")\n",
    "\n",
    "   with CustomContext():\n",
    "       # Code that might raise an exception\n",
    "       result = 10 / 0\n",
    "   ```"
   ]
  },
  {
   "cell_type": "markdown",
   "id": "43a9248a",
   "metadata": {},
   "source": [
    "## Q4. Describe two methods for specifying the text of an exception object's error message."
   ]
  },
  {
   "cell_type": "markdown",
   "id": "26d63fb1",
   "metadata": {},
   "source": [
    "1. **Passing a String to the Exception Constructor:**\n",
    "\n",
    "   You can pass a custom error message as a string when raising an exception:\n",
    "\n",
    "   ```python\n",
    "   raise ValueError(\"This is a custom error message.\")\n",
    "   ```\n",
    "\n",
    "2. **Overriding the `__str__` Method:**\n",
    "\n",
    "   By defining the `__str__` method in your custom exception class, you can control the formatting of the exception message:\n",
    "\n",
    "   ```python\n",
    "   class CustomException(Exception):\n",
    "       def __init__(self, value):\n",
    "           self.value = value\n",
    "       \n",
    "       def __str__(self):\n",
    "           return f\"CustomException: {self.value}\"\n",
    "\n",
    "   try:\n",
    "       raise CustomException(\"Something went wrong\")\n",
    "   except CustomException as e:\n",
    "       print(e)\n",
    "   ```"
   ]
  },
  {
   "cell_type": "markdown",
   "id": "cb27d2f5",
   "metadata": {},
   "source": [
    "## Q5. Why do you no longer use string-based exceptions?"
   ]
  },
  {
   "cell_type": "markdown",
   "id": "054f1907",
   "metadata": {},
   "source": [
    "String-based exceptions were abandoned due to their limitations in terms of introspection, hierarchy, consistency, and debugging. Class-based exceptions offer a more structured and powerful approach to exception handling. For example:\n",
    "\n",
    "```python\n",
    "# String-based exception (old way)\n",
    "try:\n",
    "    raise \"This is a string-based exception\"\n",
    "except:\n",
    "    print(\"Caught an exception\")\n",
    "\n",
    "# Class-based exception (preferred)\n",
    "class CustomException(Exception):\n",
    "    pass\n",
    "\n",
    "try:\n",
    "    raise CustomException(\"This is a class-based exception\")\n",
    "except CustomException as e:\n",
    "    print(\"Caught an exception:\", e)\n",
    "```\n",
    "\n",
    "Class-based exceptions provide clear hierarchies, inheritance, and the ability to attach custom attributes and methods, making them more informative and maintainable compared to the older string-based approach."
   ]
  },
  {
   "cell_type": "code",
   "execution_count": null,
   "id": "534af009",
   "metadata": {},
   "outputs": [],
   "source": []
  }
 ],
 "metadata": {
  "kernelspec": {
   "display_name": "Python 3 (ipykernel)",
   "language": "python",
   "name": "python3"
  },
  "language_info": {
   "codemirror_mode": {
    "name": "ipython",
    "version": 3
   },
   "file_extension": ".py",
   "mimetype": "text/x-python",
   "name": "python",
   "nbconvert_exporter": "python",
   "pygments_lexer": "ipython3",
   "version": "3.9.12"
  }
 },
 "nbformat": 4,
 "nbformat_minor": 5
}
