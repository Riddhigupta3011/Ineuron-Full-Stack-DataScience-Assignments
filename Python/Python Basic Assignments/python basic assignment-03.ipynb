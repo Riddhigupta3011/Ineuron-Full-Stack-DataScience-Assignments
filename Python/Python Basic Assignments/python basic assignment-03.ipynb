{
 "cells": [
  {
   "cell_type": "markdown",
   "id": "61cdc360",
   "metadata": {},
   "source": [
    "### 1. Why are functions advantageous to have in your programs?"
   ]
  },
  {
   "cell_type": "markdown",
   "id": "c86fefcf",
   "metadata": {},
   "source": [
    "**Ans**: Functions reduce the need for duplicate code. This makes programs shorter, easier to read, and easier to update. The main advantage of functions is code Reusability."
   ]
  },
  {
   "cell_type": "markdown",
   "id": "dd31735e",
   "metadata": {},
   "source": [
    "### 2. When does the code in a function run: when it&#39;s specified or when it&#39;s called?"
   ]
  },
  {
   "cell_type": "markdown",
   "id": "29f90052",
   "metadata": {},
   "source": [
    "**Ans**: The code in a function executes when the function is called, not when the function is specified."
   ]
  },
  {
   "cell_type": "markdown",
   "id": "b49e7140",
   "metadata": {},
   "source": [
    "### 3. What statement creates a function?"
   ]
  },
  {
   "cell_type": "markdown",
   "id": "b8242921",
   "metadata": {},
   "source": [
    "**Ans**: The def statement defines a function\n",
    "\n",
    "**Syntax of Function**:\n",
    "\n",
    "`def function_name(parameters): \n",
    "    \"\"\"doc string\"\"\" \n",
    "    -----function body----- \n",
    "    -----function body----- \n",
    "        return value`"
   ]
  },
  {
   "cell_type": "markdown",
   "id": "4beea453",
   "metadata": {},
   "source": [
    "### 4. What is the difference between a function and a function call?"
   ]
  },
  {
   "cell_type": "markdown",
   "id": "7071b396",
   "metadata": {},
   "source": [
    "**Ans**: A function is procedure to achieve a particular result. while function call is using this function to achive that task. Using a function to do a particular task any point in program is called as function call."
   ]
  },
  {
   "cell_type": "markdown",
   "id": "6064e378",
   "metadata": {},
   "source": [
    "### 5. How many global scopes are there in a Python program? How many local scopes?"
   ]
  },
  {
   "cell_type": "markdown",
   "id": "b00addd3",
   "metadata": {},
   "source": [
    "**Ans**: There is one global scope, and a local scope is created whenever a function is called."
   ]
  },
  {
   "cell_type": "markdown",
   "id": "86113106",
   "metadata": {},
   "source": [
    "### 6. What happens to variables in a local scope when the function call returns?"
   ]
  },
  {
   "cell_type": "markdown",
   "id": "ba3265f0",
   "metadata": {},
   "source": [
    "**Ans**: When a function returns, the local scope is destroyed, and all the variables in it are forgotten."
   ]
  },
  {
   "cell_type": "markdown",
   "id": "60963905",
   "metadata": {},
   "source": [
    "### 7. What is the concept of a return value? Is it possible to have a return value in an expression?"
   ]
  },
  {
   "cell_type": "markdown",
   "id": "436e7182",
   "metadata": {},
   "source": [
    "**Ans**: A return value is the value that a function call evaluates to. Like any value, a return value can be used as part of an expression."
   ]
  },
  {
   "cell_type": "markdown",
   "id": "88d84fe9",
   "metadata": {},
   "source": [
    "### 8. If a function does not have a return statement, what is the return value of a call to that function?"
   ]
  },
  {
   "cell_type": "markdown",
   "id": "9587abe1",
   "metadata": {},
   "source": [
    "**Ans**: If there is no return statement for a function, its return value is `None`."
   ]
  },
  {
   "cell_type": "markdown",
   "id": "464ec610",
   "metadata": {},
   "source": [
    "### 9. How do you make a function variable refer to the global variable?"
   ]
  },
  {
   "cell_type": "markdown",
   "id": "7a1322be",
   "metadata": {},
   "source": [
    "1**Ans**: A global statement will force a variable in a function to refer to the global variable. If you want to refer to a global variable in a function, you can use the `global` keyword to declare which variables are global."
   ]
  },
  {
   "cell_type": "markdown",
   "id": "cda9532b",
   "metadata": {},
   "source": [
    "### 10. What is the data type of None?"
   ]
  },
  {
   "cell_type": "markdown",
   "id": "f4bb3b0e",
   "metadata": {},
   "source": [
    "**Ans**: The data type of None is `NoneType`."
   ]
  },
  {
   "cell_type": "markdown",
   "id": "669b962f",
   "metadata": {},
   "source": [
    "### 11. What does the sentence import areallyourpetsnamederic do?"
   ]
  },
  {
   "cell_type": "markdown",
   "id": "d71e6c7b",
   "metadata": {},
   "source": [
    "**Ans**: That import statement imports a module named areallyourpetsnamederic."
   ]
  },
  {
   "cell_type": "markdown",
   "id": "83a819be",
   "metadata": {},
   "source": [
    "### 12. If you had a bacon() feature in a spam module, what would you call it after importing spam?"
   ]
  },
  {
   "cell_type": "markdown",
   "id": "595bf917",
   "metadata": {},
   "source": [
    "**Ans**: This function can be called with `spam.bacon()`."
   ]
  },
  {
   "cell_type": "markdown",
   "id": "f5f73e13",
   "metadata": {},
   "source": [
    "### 13. What can you do to save a programme from crashing if it encounters an error?"
   ]
  },
  {
   "cell_type": "markdown",
   "id": "5db00607",
   "metadata": {},
   "source": [
    "**Ans**: Place the line of code that might cause an error in a `try` clause and use `except` block to handle the error."
   ]
  },
  {
   "cell_type": "markdown",
   "id": "4995171a",
   "metadata": {},
   "source": [
    "### 14. What is the purpose of the try clause? What is the purpose of the except clause?"
   ]
  },
  {
   "cell_type": "markdown",
   "id": "4406bf3e",
   "metadata": {},
   "source": [
    "**Ans**:The code that could potentially cause an error goes in the `try` clause. The code that executes if an error happens goes in the `except` clause."
   ]
  }
 ],
 "metadata": {
  "kernelspec": {
   "display_name": "Python 3 (ipykernel)",
   "language": "python",
   "name": "python3"
  },
  "language_info": {
   "codemirror_mode": {
    "name": "ipython",
    "version": 3
   },
   "file_extension": ".py",
   "mimetype": "text/x-python",
   "name": "python",
   "nbconvert_exporter": "python",
   "pygments_lexer": "ipython3",
   "version": "3.9.12"
  }
 },
 "nbformat": 4,
 "nbformat_minor": 5
}
