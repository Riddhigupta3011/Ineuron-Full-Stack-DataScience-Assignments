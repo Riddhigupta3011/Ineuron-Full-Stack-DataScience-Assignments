{
 "cells": [
  {
   "cell_type": "markdown",
   "id": "b4d03618",
   "metadata": {},
   "source": [
    "### 1. What exactly is [ ] ?"
   ]
  },
  {
   "cell_type": "markdown",
   "id": "23591cf2",
   "metadata": {},
   "source": [
    "**Ans**: The empty list represented by `[]` is a list that contains no items. "
   ]
  },
  {
   "cell_type": "markdown",
   "id": "8c7b746b",
   "metadata": {},
   "source": [
    "### 2. In a list of values stored in a variable called spam, how would you assign the value 'hello' as the third value? (Assume [2, 4, 6, 8, 10] are in spam.)"
   ]
  },
  {
   "cell_type": "code",
   "execution_count": 3,
   "id": "fc7ef0b4",
   "metadata": {},
   "outputs": [
    {
     "name": "stdout",
     "output_type": "stream",
     "text": [
      "[2, 4, 6, 8, 10]\n",
      "[2, 4, 'hello', 8, 10]\n"
     ]
    }
   ],
   "source": [
    "spam = [2, 4, 6, 8, 10]\n",
    "print(spam)\n",
    "spam[2] = \"hello\"  #List uses zero based indexing\n",
    "print(spam)"
   ]
  },
  {
   "cell_type": "markdown",
   "id": "ca698bda",
   "metadata": {},
   "source": [
    "Let's pretend the spam includes the list ['a', 'b', 'c', 'd'] for the next three queries."
   ]
  },
  {
   "cell_type": "code",
   "execution_count": 4,
   "id": "05793785",
   "metadata": {},
   "outputs": [],
   "source": [
    "spam = ['a','b','c','d']"
   ]
  },
  {
   "cell_type": "markdown",
   "id": "738bf09c",
   "metadata": {},
   "source": [
    "### 3. What is the value of spam[int(int('3' * 2) / 11)]?\n"
   ]
  },
  {
   "cell_type": "markdown",
   "id": "db735c36",
   "metadata": {},
   "source": [
    "**Ans**: `d` \n",
    "\n",
    "(Note that '3' * 2 is the string '33', which is passed to int() before being divided by 11. This eventually evaluates to 3, spam[3] is equal to d.)"
   ]
  },
  {
   "cell_type": "code",
   "execution_count": 15,
   "id": "c838e96c",
   "metadata": {},
   "outputs": [
    {
     "name": "stdout",
     "output_type": "stream",
     "text": [
      "['a', 'b', 'c', 'd']\n",
      "spam[int(int('3'*2)/11)] ->  d\n"
     ]
    }
   ],
   "source": [
    "print(spam)\n",
    "print(\"spam[int(int('3'*2)/11)] -> \",spam[int(int('3'*2)/11)])"
   ]
  },
  {
   "cell_type": "markdown",
   "id": "522fd339",
   "metadata": {},
   "source": [
    "### 4. What is the value of spam[-1]?"
   ]
  },
  {
   "cell_type": "markdown",
   "id": "f8068275",
   "metadata": {},
   "source": [
    "**Ans**: The value of spam[-1] = `d`"
   ]
  },
  {
   "cell_type": "code",
   "execution_count": 14,
   "id": "ef32c3d0",
   "metadata": {},
   "outputs": [
    {
     "name": "stdout",
     "output_type": "stream",
     "text": [
      "['a', 'b', 'c', 'd']\n",
      "spam[-1] -> d\n"
     ]
    }
   ],
   "source": [
    "print(spam)\n",
    "print(\"spam[-1] ->\",spam[-1])  # Lists support Negative indexing"
   ]
  },
  {
   "cell_type": "markdown",
   "id": "983b041c",
   "metadata": {},
   "source": [
    "### 5. What is the value of spam[:2]?\n"
   ]
  },
  {
   "cell_type": "code",
   "execution_count": 16,
   "id": "503b7968",
   "metadata": {},
   "outputs": [
    {
     "name": "stdout",
     "output_type": "stream",
     "text": [
      "['a', 'b', 'c', 'd']\n",
      "spam[:2] -> ['a', 'b']\n"
     ]
    }
   ],
   "source": [
    "print(spam)\n",
    "print(\"spam[:2] ->\", spam[:2]) # spam[:2] returns all elements in the list spam from 0 to 2 excluding 2"
   ]
  },
  {
   "cell_type": "markdown",
   "id": "f5a0bee8",
   "metadata": {},
   "source": [
    "Let's pretend bacon has the list [3.14, 'cat,' 11, 'cat,' True] for the next three questions.\n"
   ]
  },
  {
   "cell_type": "code",
   "execution_count": 30,
   "id": "cad6af69",
   "metadata": {},
   "outputs": [],
   "source": [
    "bacon = [3.14, \"cat\",\"11\",\"cat\",\"True\"]"
   ]
  },
  {
   "cell_type": "markdown",
   "id": "17dd11d0",
   "metadata": {},
   "source": [
    "### 6. What is the value of bacon.index('cat')?\n"
   ]
  },
  {
   "cell_type": "code",
   "execution_count": 31,
   "id": "3d5fd753",
   "metadata": {},
   "outputs": [
    {
     "name": "stdout",
     "output_type": "stream",
     "text": [
      "[3.14, 'cat', '11', 'cat', 'True']\n",
      "bacon.index('cat') -> 1\n"
     ]
    }
   ],
   "source": [
    "print(bacon)\n",
    "print(\"bacon.index('cat') ->\",bacon.index(\"cat\"))"
   ]
  },
  {
   "cell_type": "markdown",
   "id": "017fca08",
   "metadata": {},
   "source": [
    "### 7. How does bacon.append(99) change the look of the list value in bacon?\n"
   ]
  },
  {
   "cell_type": "markdown",
   "id": "1a5a8105",
   "metadata": {},
   "source": [
    "**Ans**: The `append` method adds new elements to the end of the list"
   ]
  },
  {
   "cell_type": "code",
   "execution_count": 32,
   "id": "40d36597",
   "metadata": {},
   "outputs": [
    {
     "name": "stdout",
     "output_type": "stream",
     "text": [
      "[3.14, 'cat', '11', 'cat', 'True']\n",
      "[3.14, 'cat', '11', 'cat', 'True', 99]\n"
     ]
    }
   ],
   "source": [
    "print(bacon)\n",
    "bacon.append(99)\n",
    "print(bacon)"
   ]
  },
  {
   "cell_type": "markdown",
   "id": "c7e36eae",
   "metadata": {},
   "source": [
    "### 8. How does bacon.remove('cat') change the look of the list in bacon?\n"
   ]
  },
  {
   "cell_type": "markdown",
   "id": "9f167d42",
   "metadata": {},
   "source": [
    "**Ans**: The `remove` method removes the first occurence of the element in the list"
   ]
  },
  {
   "cell_type": "code",
   "execution_count": 33,
   "id": "1f78d112",
   "metadata": {},
   "outputs": [
    {
     "name": "stdout",
     "output_type": "stream",
     "text": [
      "[3.14, 'cat', '11', 'cat', 'True', 99]\n",
      "[3.14, '11', 'cat', 'True', 99]\n"
     ]
    }
   ],
   "source": [
    "print(bacon)\n",
    "bacon.remove(\"cat\")\n",
    "print(bacon)"
   ]
  },
  {
   "cell_type": "markdown",
   "id": "065d4458",
   "metadata": {},
   "source": [
    "### 9. What are the list concatenation and list replication operators?\n"
   ]
  },
  {
   "cell_type": "markdown",
   "id": "657ace1a",
   "metadata": {},
   "source": [
    "**Ans**: The operator for list concatenation is `+`, while the operator for replication is `*` . (This is the same as for strings.)"
   ]
  },
  {
   "cell_type": "code",
   "execution_count": 45,
   "id": "985a48c2",
   "metadata": {},
   "outputs": [
    {
     "name": "stdout",
     "output_type": "stream",
     "text": [
      "[1, 2, 3, 4, 10, 20, 30, 40]\n",
      "[1, 2, 3, 4, 1, 2, 3, 4]\n"
     ]
    }
   ],
   "source": [
    "A=[1,2,3,4]\n",
    "B=[10,20,30,40]\n",
    "print(A+B) #list concatenation\n",
    "print(A*2) #list Replication"
   ]
  },
  {
   "cell_type": "markdown",
   "id": "b4bac9d2",
   "metadata": {},
   "source": [
    "### 10. What is difference between the list methods append() and insert()?\n"
   ]
  },
  {
   "cell_type": "markdown",
   "id": "2af6d90b",
   "metadata": {},
   "source": [
    "**Ans**: While `append()` will add values only to the end of a list, `insert()` can add them anywhere in the list."
   ]
  },
  {
   "cell_type": "markdown",
   "id": "29320856",
   "metadata": {},
   "source": [
    "### 11. What are the two methods for removing items from a list?\n"
   ]
  },
  {
   "cell_type": "markdown",
   "id": "2be4f7e4",
   "metadata": {},
   "source": [
    "**Ans**: The `del` statement and the `remove()` method are two ways to remove values from a list"
   ]
  },
  {
   "cell_type": "markdown",
   "id": "556593bf",
   "metadata": {},
   "source": [
    "### 12. Describe how list values and string values are identical.\n"
   ]
  },
  {
   "cell_type": "markdown",
   "id": "222ffb8c",
   "metadata": {},
   "source": [
    "**Ans**: Both lists and strings can be passed to `len()` function, have indexes and slices, be used in `for` loops, be concatenated or replicated, and be used with the `in` and `not in` operators."
   ]
  },
  {
   "cell_type": "markdown",
   "id": "fa5a1795",
   "metadata": {},
   "source": [
    "### 13. What's the difference between tuples and lists?\n"
   ]
  },
  {
   "cell_type": "markdown",
   "id": "1c43e046",
   "metadata": {},
   "source": [
    "**Ans**: `Tuples` and `lists` are both used to store collections of data in Python. However, tuples are immutable, meaning their elements cannot be modified, while lists are mutable and can be modified in place. Tuples are defined using parentheses, while lists are defined using square brackets. Tuples are often used to represent fixed sets of data, while lists are used for collections of data that may be modified over time."
   ]
  },
  {
   "cell_type": "markdown",
   "id": "9439d5ba",
   "metadata": {},
   "source": [
    "### 14. How do you type a tuple value that only contains the integer 42?\n"
   ]
  },
  {
   "cell_type": "markdown",
   "id": "e7f1602a",
   "metadata": {},
   "source": [
    "**Ans**:(42,) (The trailing comma is mandatory. otherwise its considered as a int by python Interpreter)"
   ]
  },
  {
   "cell_type": "code",
   "execution_count": 47,
   "id": "826e0f0c",
   "metadata": {},
   "outputs": [
    {
     "name": "stdout",
     "output_type": "stream",
     "text": [
      "<class 'tuple'>\n"
     ]
    }
   ],
   "source": [
    "a=(42,)\n",
    "print(type(a))"
   ]
  },
  {
   "cell_type": "markdown",
   "id": "8556e5f7",
   "metadata": {},
   "source": [
    "### 15. How do you get a list value's tuple form? How do you get a tuple value's list form?\n"
   ]
  },
  {
   "cell_type": "markdown",
   "id": "318e12f3",
   "metadata": {},
   "source": [
    "**Ans**: The `tuple()` and `list()` functions, respectively are used to convert a list to tuple and vice versa"
   ]
  },
  {
   "cell_type": "markdown",
   "id": "859492a5",
   "metadata": {},
   "source": [
    "### 16. Variables that \"contain\" list values are not necessarily lists themselves. Instead, what do they contain?\n"
   ]
  },
  {
   "cell_type": "markdown",
   "id": "d8294d21",
   "metadata": {},
   "source": [
    "**Ans**: They contain references to list values."
   ]
  },
  {
   "cell_type": "markdown",
   "id": "7ed32614",
   "metadata": {},
   "source": [
    "### 17. How do you distinguish between copy.copy() and copy.deepcopy()?\n"
   ]
  },
  {
   "cell_type": "markdown",
   "id": "0673e41c",
   "metadata": {},
   "source": [
    "**Ans**: The `copy.copy()` function will do a shallow copy of a list, while the `copy.deepcopy()` function will do a deep copy of a list. That is, only `copy.deepcopy()` will duplicate any lists inside the list."
   ]
  },
  {
   "cell_type": "code",
   "execution_count": 57,
   "id": "e44acd58",
   "metadata": {},
   "outputs": [
    {
     "name": "stdout",
     "output_type": "stream",
     "text": [
      "li1 ID:  2971293085504 Value:  [1, 2, [3, 5], 4]\n",
      "li2 ID:  2971293086464 Value:  [1, 2, [3, 5], 4]\n",
      "li3 ID:  2971293146240 Value:  [1, 2, [3, 5], 4]\n"
     ]
    }
   ],
   "source": [
    "# importing copy module\n",
    "import copy\n",
    " \n",
    "# initializing list 1\n",
    "li1 = [1, 2, [3, 5], 4]\n",
    "print(\"li1 ID: \", id(li1), \"Value: \", li1)\n",
    "# using copy for shallow copy\n",
    "li2 = copy.copy(li1)\n",
    "print(\"li2 ID: \", id(li2), \"Value: \", li2)\n",
    "# using deepcopy for deepcopy\n",
    "li3 = copy.deepcopy(li1)\n",
    "print(\"li3 ID: \", id(li3), \"Value: \", li3)"
   ]
  },
  {
   "cell_type": "code",
   "execution_count": null,
   "id": "d3fb25e9",
   "metadata": {},
   "outputs": [],
   "source": []
  },
  {
   "cell_type": "code",
   "execution_count": null,
   "id": "68e1cfc0",
   "metadata": {},
   "outputs": [],
   "source": []
  }
 ],
 "metadata": {
  "kernelspec": {
   "display_name": "Python 3 (ipykernel)",
   "language": "python",
   "name": "python3"
  },
  "language_info": {
   "codemirror_mode": {
    "name": "ipython",
    "version": 3
   },
   "file_extension": ".py",
   "mimetype": "text/x-python",
   "name": "python",
   "nbconvert_exporter": "python",
   "pygments_lexer": "ipython3",
   "version": "3.9.12"
  }
 },
 "nbformat": 4,
 "nbformat_minor": 5
}
