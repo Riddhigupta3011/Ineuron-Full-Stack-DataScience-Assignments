{
 "cells": [
  {
   "cell_type": "markdown",
   "id": "61bf7b03",
   "metadata": {},
   "source": [
    "# Assignment - 02"
   ]
  },
  {
   "cell_type": "markdown",
   "id": "8f196d3e",
   "metadata": {},
   "source": [
    "\n",
    "### 1. What are the two values of the Boolean data type? How do you write them?"
   ]
  },
  {
   "cell_type": "markdown",
   "id": "b185bc41",
   "metadata": {},
   "source": [
    "`True` and `False` are two values of the boolen data types. We have to use capital T and F and with the rest of the word in lowercase"
   ]
  },
  {
   "cell_type": "code",
   "execution_count": 14,
   "id": "3f1c2646",
   "metadata": {},
   "outputs": [
    {
     "name": "stdout",
     "output_type": "stream",
     "text": [
      "True <class 'bool'>\n",
      "False <class 'bool'>\n"
     ]
    }
   ],
   "source": [
    "x = True\n",
    "y = False\n",
    "print(x, type(x))\n",
    "print(y, type(y))"
   ]
  },
  {
   "cell_type": "markdown",
   "id": "5bdbaa5b",
   "metadata": {},
   "source": [
    "### 2. What are the three different types of Boolean operators?"
   ]
  },
  {
   "cell_type": "markdown",
   "id": "9a28183f",
   "metadata": {},
   "source": [
    "**Ans**: The three differnt types of Boolean operators in python are: `or`, `and`,`not`"
   ]
  },
  {
   "cell_type": "code",
   "execution_count": 15,
   "id": "c03287ec",
   "metadata": {},
   "outputs": [
    {
     "name": "stdout",
     "output_type": "stream",
     "text": [
      "True\n",
      "True\n",
      "False\n"
     ]
    }
   ],
   "source": [
    "a=100\n",
    "b=200\n",
    "print(a>50 and b>100) # Example of boolean and\n",
    "print(a>200 or b>100) # Example of boolean or\n",
    "print(not(a>10)) # Example of boolean not"
   ]
  },
  {
   "cell_type": "markdown",
   "id": "e6cb201b",
   "metadata": {},
   "source": [
    "### 3. Make a list of each Boolean operator's truth tables (i.e. every possible combination of Boolean values for the operator and what it evaluate ."
   ]
  },
  {
   "cell_type": "markdown",
   "id": "b660b685",
   "metadata": {},
   "source": [
    "**Ans**: The Truth tables for the boolean tables are as follows:\n",
    "\n",
    "##### Truth Table for and operaotor\n",
    "1. True and True is `True`\n",
    "2. True and False is `False`\n",
    "3. False and True is `False`\n",
    "4. False and False is `False`\n",
    "\n",
    "##### Truth Table for or operaotor\n",
    "1. True and True is `True`\n",
    "2. True and False is `True`\n",
    "3. False and True is `True`\n",
    "4. False and False is `False`\n",
    "\n",
    "#### Truth Table for not operaotor\n",
    "1. True not is False False not is `True`"
   ]
  },
  {
   "cell_type": "markdown",
   "id": "32da6390",
   "metadata": {},
   "source": [
    "### 3. What are the values of the following expressions?\n",
    "* (5 > 4) and (3 == 5)\n",
    "* not (5 > 4)\n",
    "* (5 > 4) or (3 == 5)\n",
    "* not ((5 > 4) or (3 == 5))\n",
    "* (True and True) and (True == False)\n",
    "* (not False) or (not True)"
   ]
  },
  {
   "cell_type": "code",
   "execution_count": 29,
   "id": "2f78b24a",
   "metadata": {},
   "outputs": [
    {
     "name": "stdout",
     "output_type": "stream",
     "text": [
      "False\n",
      "False\n",
      "True\n",
      "False\n",
      "False\n",
      "True\n"
     ]
    }
   ],
   "source": [
    "print((5>4)and(3==5)) # False\n",
    "print(not(5>4)) # False\n",
    "print((5>4)or(3==5)) # True\n",
    "print(not((5>4)or(3==5))) # False\n",
    "print((True and True)and(True==False)) # False\n",
    "print((not False)or(not True)) # True"
   ]
  },
  {
   "cell_type": "markdown",
   "id": "8d07c71f",
   "metadata": {},
   "source": [
    "### 3. What are the six comparison operators?"
   ]
  },
  {
   "cell_type": "markdown",
   "id": "c751e5bf",
   "metadata": {},
   "source": [
    "**Ans**: The Six comparision operators available in python are:\n",
    "`==` , `!=` , `<` , `>` , `<=` , `=>`"
   ]
  },
  {
   "cell_type": "markdown",
   "id": "9d070352",
   "metadata": {},
   "source": [
    "### 4. How do you tell the difference between the equal to and assignment operators?Describe a condition and when you would use one.\n"
   ]
  },
  {
   "cell_type": "markdown",
   "id": "fb09e378",
   "metadata": {},
   "source": [
    "**Ans**: `==` is the equal to operator that compares two values and evaluates to a Boolean, while `=` is that assignment operator that stores a value in a variable."
   ]
  },
  {
   "cell_type": "code",
   "execution_count": 17,
   "id": "c106d225",
   "metadata": {},
   "outputs": [
    {
     "name": "stdout",
     "output_type": "stream",
     "text": [
      "True\n"
     ]
    }
   ],
   "source": [
    "a=3 # Assigning operator that stores 3 value in a variable a\n",
    "if a==3: #comparing values of a varible value with 3\n",
    "    print(a==3)  "
   ]
  },
  {
   "cell_type": "markdown",
   "id": "93c6a55f",
   "metadata": {},
   "source": [
    "### 5. Identify the three blocks in this code:\n",
    "spam = 0\n",
    "\n",
    "\n",
    "if spam == 10:\n",
    "\n",
    "\n",
    "print('eggs')\n",
    "\n",
    "\n",
    "if spam > 5:\n",
    "\n",
    "\n",
    "print('bacon')\n",
    "\n",
    "\n",
    "else:\n",
    "\n",
    "\n",
    "print('ham')\n",
    "\n",
    "\n",
    "print('spam')\n",
    "\n",
    "\n",
    "print('spam')"
   ]
  },
  {
   "cell_type": "code",
   "execution_count": 18,
   "id": "6b40504b",
   "metadata": {},
   "outputs": [
    {
     "name": "stdout",
     "output_type": "stream",
     "text": [
      "ham\n",
      "spam\n",
      "spam\n"
     ]
    }
   ],
   "source": [
    "#code block refers to a collection of code that is in the same block or indent.\n",
    "spam = 0  \n",
    "if spam == 10:  \n",
    "    print('eggs')  # block #1\n",
    "if spam > 5:  \n",
    "    print('bacon')  # block #2\n",
    "else:  \n",
    "    print('ham')  # block #3\n",
    "print('spam')  \n",
    "print('spam')"
   ]
  },
  {
   "cell_type": "markdown",
   "id": "51579d47",
   "metadata": {},
   "source": [
    "### 6. Write code that prints Hello if 1 is stored in spam, prints Howdy if 2 is stored in spam, and prints Greetings! if anything else is stored in spam."
   ]
  },
  {
   "cell_type": "code",
   "execution_count": 19,
   "id": "8c43c91c",
   "metadata": {},
   "outputs": [
    {
     "name": "stdout",
     "output_type": "stream",
     "text": [
      "Hello\n",
      "Howdy\n",
      "Greetings\n"
     ]
    }
   ],
   "source": [
    "def spamcode(spam):\n",
    "    if spam==1:\n",
    "        print(\"Hello\")\n",
    "    elif spam==2:\n",
    "        print(\"Howdy\")\n",
    "    else:\n",
    "        print(\"Greetings\")\n",
    "        \n",
    "spamcode(1)\n",
    "spamcode(2)\n",
    "spamcode(3)"
   ]
  },
  {
   "cell_type": "markdown",
   "id": "589e203e",
   "metadata": {},
   "source": [
    "### 9. If your programme is stuck in an endless loop, what keys you’ll press?"
   ]
  },
  {
   "cell_type": "markdown",
   "id": "b1fb069f",
   "metadata": {},
   "source": [
    "**Ans**: Press `Ctrl-c` to stop a program stuck in an infinite loop"
   ]
  },
  {
   "cell_type": "markdown",
   "id": "9a1df951",
   "metadata": {},
   "source": [
    "### 10. How can you tell the difference between break and continue?"
   ]
  },
  {
   "cell_type": "markdown",
   "id": "f750a806",
   "metadata": {},
   "source": [
    "The `break` statement will move the execution outside the loop if break condtion is satisfied. Whereas the `continue` statement will move the execution to the start of the loop."
   ]
  },
  {
   "cell_type": "markdown",
   "id": "d5c543e9",
   "metadata": {},
   "source": [
    "### 11. In a for loop, what is the difference between range(10), range(0, 10), and range(0, 10, 1)?"
   ]
  },
  {
   "cell_type": "markdown",
   "id": "29f90cc6",
   "metadata": {},
   "source": [
    "**Ans**: The Differences are as follows:\n",
    "\n",
    "* The range(10) call range from 0 to 9 (but not include 10)\n",
    "* The range (0,10) explicitly tells the loop to start at 0\n",
    "* The range(0,10,1) explicitly tells the loop to increase the variable by 1 on each iteration"
   ]
  },
  {
   "cell_type": "markdown",
   "id": "99438a8c",
   "metadata": {},
   "source": [
    "### 12. Write a short program that prints the numbers 1 to 10 using a for loop. Then write an equivalent program that prints the numbers 1 to 10 using a while loop."
   ]
  },
  {
   "cell_type": "code",
   "execution_count": 28,
   "id": "f3deae68",
   "metadata": {},
   "outputs": [
    {
     "name": "stdout",
     "output_type": "stream",
     "text": [
      "----- using for loop -----\n",
      "1 2 3 4 5 6 7 8 9 10 \n",
      "\n",
      "----- using while loop -----\n",
      "1 2 3 4 5 6 7 8 9 10 "
     ]
    }
   ],
   "source": [
    "print(\"-\"*5,\"using for loop\",\"-\"*5)\n",
    "for i in range(1,11):\n",
    "    print(i, end=\" \")\n",
    "print(\"\\n\")\n",
    "print(\"-\"*5,\"using while loop\",\"-\"*5)\n",
    "i=1\n",
    "while i<=10:\n",
    "    print(i, end=\" \")\n",
    "    i=i+1"
   ]
  },
  {
   "cell_type": "markdown",
   "id": "dbd51ff7",
   "metadata": {},
   "source": [
    "### 13. If you had a function named bacon() inside a module named spam, how would you call it after importing spam?"
   ]
  },
  {
   "cell_type": "markdown",
   "id": "2f64da43",
   "metadata": {},
   "source": [
    "**Ans**:This function can be called using `spam.bacon()`"
   ]
  }
 ],
 "metadata": {
  "kernelspec": {
   "display_name": "Python 3 (ipykernel)",
   "language": "python",
   "name": "python3"
  },
  "language_info": {
   "codemirror_mode": {
    "name": "ipython",
    "version": 3
   },
   "file_extension": ".py",
   "mimetype": "text/x-python",
   "name": "python",
   "nbconvert_exporter": "python",
   "pygments_lexer": "ipython3",
   "version": "3.9.12"
  }
 },
 "nbformat": 4,
 "nbformat_minor": 5
}
