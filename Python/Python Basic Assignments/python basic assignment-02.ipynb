{
 "cells": [
  {
   "cell_type": "markdown",
   "id": "61bf7b03",
   "metadata": {},
   "source": [
    "# Assignment - 02"
   ]
  },
  {
   "cell_type": "markdown",
   "id": "8f196d3e",
   "metadata": {},
   "source": [
    "\n",
    "### 1. What are the two values of the Boolean data type? How do you write them?"
   ]
  },
  {
   "cell_type": "markdown",
   "id": "8d75305f",
   "metadata": {},
   "source": [
    "**Ans**: The two values of the Boolean data type are `True` and `False`. You write them exactly as shown, with the initial capitalization."
   ]
  },
  {
   "cell_type": "markdown",
   "id": "5bdbaa5b",
   "metadata": {},
   "source": [
    "### 2. What are the three different types of Boolean operators?"
   ]
  },
  {
   "cell_type": "markdown",
   "id": "9a28183f",
   "metadata": {},
   "source": [
    "**Ans**:The three different types of Boolean operators are:\n",
    "   - AND\n",
    "   - OR\n",
    "   - NOT\n"
   ]
  },
  {
   "cell_type": "markdown",
   "id": "e6cb201b",
   "metadata": {},
   "source": [
    "### 3. Make a list of each Boolean operator's truth tables (i.e. every possible combination of Boolean values for the operator and what it evaluate ."
   ]
  },
  {
   "cell_type": "markdown",
   "id": "b660b685",
   "metadata": {},
   "source": [
    "**Ans**:Truth tables for Boolean operators:\n",
    "\n",
    "   AND operator:\n",
    "   | A     | B     | A AND B |\n",
    "   |-------|-------|---------|\n",
    "   | False | False | False   |\n",
    "   | False | True  | False   |\n",
    "   | True  | False | False   |\n",
    "   | True  | True  | True    |\n",
    "\n",
    "   OR operator:\n",
    "   | A     | B     | A OR B  |\n",
    "   |-------|-------|---------|\n",
    "   | False | False | False   |\n",
    "   | False | True  | True    |\n",
    "   | True  | False | True    |\n",
    "   | True  | True  | True    |\n",
    "\n",
    "   NOT operator:\n",
    "   | A     | NOT A |\n",
    "   |-------|-------|\n",
    "   | False | True  |\n",
    "   | True  | False |"
   ]
  },
  {
   "cell_type": "markdown",
   "id": "32da6390",
   "metadata": {},
   "source": [
    "### 4. What are the values of the following expressions?\n",
    "* (5 > 4) and (3 == 5)\n",
    "* not (5 > 4)\n",
    "* (5 > 4) or (3 == 5)\n",
    "* not ((5 > 4) or (3 == 5))\n",
    "* (True and True) and (True == False)\n",
    "* (not False) or (not True)"
   ]
  },
  {
   "cell_type": "markdown",
   "id": "da265600",
   "metadata": {},
   "source": [
    "**ans** : Values of the given expressions:\n",
    "   - (5 > 4) and (3 == 5) → False\n",
    "   - not (5 > 4) → False\n",
    "   - (5 > 4) or (3 == 5) → True\n",
    "   - not ((5 > 4) or (3 == 5)) → False\n",
    "   - (True and True) and (True == False) → False\n",
    "   - (not False) or (not True) → True"
   ]
  },
  {
   "cell_type": "markdown",
   "id": "8d07c71f",
   "metadata": {},
   "source": [
    "### 5. What are the six comparison operators?"
   ]
  },
  {
   "cell_type": "markdown",
   "id": "c751e5bf",
   "metadata": {},
   "source": [
    "**Ans**: The six comparison operators are:\n",
    "   - Equal to: `==`\n",
    "   - Not equal to: `!=`\n",
    "   - Greater than: `>`\n",
    "   - Less than: `<`\n",
    "   - Greater than or equal to: `>=`\n",
    "   - Less than or equal to: `<=`"
   ]
  },
  {
   "cell_type": "markdown",
   "id": "9d070352",
   "metadata": {},
   "source": [
    "### 6. How do you tell the difference between the equal to and assignment operators?Describe a condition and when you would use one.\n"
   ]
  },
  {
   "cell_type": "markdown",
   "id": "fb09e378",
   "metadata": {},
   "source": [
    "**Ans**: \n",
    "6. The equal to operator is `==` and is used to compare two values for equality. The assignment operator is `=` and is used to assign a value to a variable.\n"
   ]
  },
  {
   "cell_type": "markdown",
   "id": "93c6a55f",
   "metadata": {},
   "source": [
    "### 7. Identify the three blocks in this code:\n",
    "spam = 0\n",
    "\n",
    "\n",
    "if spam == 10:\n",
    "\n",
    "\n",
    "print('eggs')\n",
    "\n",
    "\n",
    "if spam > 5:\n",
    "\n",
    "\n",
    "print('bacon')\n",
    "\n",
    "\n",
    "else:\n",
    "\n",
    "\n",
    "print('ham')\n",
    "\n",
    "\n",
    "print('spam')\n",
    "\n",
    "\n",
    "print('spam')"
   ]
  },
  {
   "cell_type": "markdown",
   "id": "884e8227",
   "metadata": {},
   "source": [
    "**Ans** The three blocks in the given code are:\n",
    "   - The first `if` block that checks if `spam` is equal to 10 and prints 'eggs'.\n",
    "   - The second `if` block that checks if `spam` is greater than 5 and prints 'bacon', otherwise prints 'ham'.\n",
    "   - The final block that unconditionally prints 'spam' twice.\n"
   ]
  },
  {
   "cell_type": "code",
   "execution_count": 4,
   "id": "6b40504b",
   "metadata": {},
   "outputs": [
    {
     "name": "stdout",
     "output_type": "stream",
     "text": [
      "ham\n",
      "spam\n",
      "spam\n"
     ]
    }
   ],
   "source": [
    "spam = 0  \n",
    "if spam == 10:  \n",
    "    print('eggs')  # block #1\n",
    "if spam > 5:  \n",
    "    print('bacon')  # block #2\n",
    "else:  \n",
    "    print('ham')  # block #3\n",
    "print('spam')  \n",
    "print('spam')"
   ]
  },
  {
   "cell_type": "markdown",
   "id": "51579d47",
   "metadata": {},
   "source": [
    "### 8. Write code that prints Hello if 1 is stored in spam, prints Howdy if 2 is stored in spam, and prints Greetings! if anything else is stored in spam."
   ]
  },
  {
   "cell_type": "code",
   "execution_count": 5,
   "id": "8c43c91c",
   "metadata": {},
   "outputs": [
    {
     "name": "stdout",
     "output_type": "stream",
     "text": [
      "Hello\n",
      "Howdy\n",
      "Greetings\n"
     ]
    }
   ],
   "source": [
    "def spamcode(spam):\n",
    "    if spam==1:\n",
    "        print(\"Hello\")\n",
    "    elif spam==2:\n",
    "        print(\"Howdy\")\n",
    "    else:\n",
    "        print(\"Greetings\")\n",
    "        \n",
    "spamcode(1)\n",
    "spamcode(2)\n",
    "spamcode(3)"
   ]
  },
  {
   "cell_type": "markdown",
   "id": "589e203e",
   "metadata": {},
   "source": [
    "### 9. If your programme is stuck in an endless loop, what keys you’ll press?"
   ]
  },
  {
   "cell_type": "markdown",
   "id": "b1fb069f",
   "metadata": {},
   "source": [
    "**Ans**: If your program is stuck in an endless loop, you can press `Ctrl + C` (or `Command + C` on macOS) to interrupt the program's execution.\n"
   ]
  },
  {
   "cell_type": "markdown",
   "id": "9a1df951",
   "metadata": {},
   "source": [
    "### 10. How can you tell the difference between break and continue?"
   ]
  },
  {
   "cell_type": "markdown",
   "id": "f750a806",
   "metadata": {},
   "source": [
    "**ans** The `break` statement is used to exit the loop prematurely, while the `continue` statement is used to skip the rest of the current iteration and move to the next one.\n"
   ]
  },
  {
   "cell_type": "markdown",
   "id": "d5c543e9",
   "metadata": {},
   "source": [
    "### 11. In a for loop, what is the difference between range(10), range(0, 10), and range(0, 10, 1)?"
   ]
  },
  {
   "cell_type": "markdown",
   "id": "29f90cc6",
   "metadata": {},
   "source": [
    "**Ans**: `range(10)`, `range(0, 10)`, and `range(0, 10, 1)` are all equivalent. They generate a sequence of numbers from 0 to 9 with a step size of 1.\n"
   ]
  },
  {
   "cell_type": "markdown",
   "id": "99438a8c",
   "metadata": {},
   "source": [
    "### 12. Write a short program that prints the numbers 1 to 10 using a for loop. Then write an equivalent program that prints the numbers 1 to 10 using a while loop."
   ]
  },
  {
   "cell_type": "markdown",
   "id": "069702c2",
   "metadata": {},
   "source": [
    "**Ans** : **Using a for loop:**"
   ]
  },
  {
   "cell_type": "code",
   "execution_count": 8,
   "id": "72f6af8c",
   "metadata": {},
   "outputs": [
    {
     "name": "stdout",
     "output_type": "stream",
     "text": [
      "1\n",
      "2\n",
      "3\n",
      "4\n",
      "5\n",
      "6\n",
      "7\n",
      "8\n",
      "9\n",
      "10\n"
     ]
    }
   ],
   "source": [
    "for i in range(1, 11):\n",
    "    print(i)"
   ]
  },
  {
   "cell_type": "markdown",
   "id": "4ec2d318",
   "metadata": {},
   "source": [
    "**Using a while loop:**"
   ]
  },
  {
   "cell_type": "code",
   "execution_count": 9,
   "id": "522cc7ad",
   "metadata": {},
   "outputs": [
    {
     "name": "stdout",
     "output_type": "stream",
     "text": [
      "1\n",
      "2\n",
      "3\n",
      "4\n",
      "5\n",
      "6\n",
      "7\n",
      "8\n",
      "9\n",
      "10\n"
     ]
    }
   ],
   "source": [
    "num = 1\n",
    "while num <= 10:\n",
    "    print(num)\n",
    "    num += 1"
   ]
  },
  {
   "cell_type": "markdown",
   "id": "dbd51ff7",
   "metadata": {},
   "source": [
    "### 13. If you had a function named bacon() inside a module named spam, how would you call it after importing spam?"
   ]
  },
  {
   "cell_type": "markdown",
   "id": "2f64da43",
   "metadata": {},
   "source": [
    "**Ans**: After importing the `spam` module, you can call the `bacon()` function using:\n",
    "```python\n",
    "import spam\n",
    "spam.bacon()\n",
    "```"
   ]
  },
  {
   "cell_type": "code",
   "execution_count": null,
   "id": "52d10d4a",
   "metadata": {},
   "outputs": [],
   "source": []
  }
 ],
 "metadata": {
  "kernelspec": {
   "display_name": "Python 3 (ipykernel)",
   "language": "python",
   "name": "python3"
  },
  "language_info": {
   "codemirror_mode": {
    "name": "ipython",
    "version": 3
   },
   "file_extension": ".py",
   "mimetype": "text/x-python",
   "name": "python",
   "nbconvert_exporter": "python",
   "pygments_lexer": "ipython3",
   "version": "3.9.12"
  }
 },
 "nbformat": 4,
 "nbformat_minor": 5
}
