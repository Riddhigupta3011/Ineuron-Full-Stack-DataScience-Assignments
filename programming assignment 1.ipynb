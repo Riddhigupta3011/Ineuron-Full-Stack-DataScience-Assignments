{
 "cells": [
  {
   "cell_type": "markdown",
   "id": "d3926473",
   "metadata": {},
   "source": [
    "1.\tWrite a Python program to print \"Hello Python\"?\n",
    "2.\tWrite a Python program to do arithmetical operations addition and division.?\n",
    "3.\tWrite a Python program to find the area of a triangle?\n",
    "4.\tWrite a Python program to swap two variables?\n",
    "5.\tWrite a Python program to generate a random number?\n"
   ]
  },
  {
   "cell_type": "code",
   "execution_count": 1,
   "id": "d3c81021",
   "metadata": {},
   "outputs": [
    {
     "name": "stdout",
     "output_type": "stream",
     "text": [
      "Hello Python\n"
     ]
    }
   ],
   "source": [
    "# que - 1\n",
    "print(\"Hello Python\")"
   ]
  },
  {
   "cell_type": "code",
   "execution_count": 4,
   "id": "1aaf7149",
   "metadata": {
    "scrolled": true
   },
   "outputs": [
    {
     "name": "stdout",
     "output_type": "stream",
     "text": [
      "enter any number : 8\n",
      "enter any number : 2\n",
      "enter operation you want : (/,+) : +\n",
      "10.0\n"
     ]
    }
   ],
   "source": [
    "# que - 2\n",
    "a = float(input(\"enter any number : \"))\n",
    "b = float(input(\"enter any number : \"))\n",
    "operation = input(\"enter operation you want : (/,+) : \")\n",
    "addition = a + b\n",
    "division = a / b\n",
    "if operation == \"+\":\n",
    "    print(addition)\n",
    "elif operation == \"/\":\n",
    "    print(division)\n",
    "else:\n",
    "    print(\"enter valid operation\")"
   ]
  },
  {
   "cell_type": "code",
   "execution_count": 6,
   "id": "000764e6",
   "metadata": {},
   "outputs": [
    {
     "name": "stdout",
     "output_type": "stream",
     "text": [
      "Enter first side : 4\n",
      "Enter second side : 2\n",
      "Enter third side : 5\n",
      "the area of the triangle is :  3.799671038392666\n"
     ]
    }
   ],
   "source": [
    "# que - 3\n",
    "a = float(input(\"Enter first side : \"))\n",
    "b = float(input(\"Enter second side : \"))\n",
    "c = float(input(\"Enter third side : \"))\n",
    "s = (a + b + c) / 2 \n",
    "area = (s*(s-a)*(s-b)*(s-c)) ** 0.5  \n",
    "print(\"the area of the triangle is : \", area)"
   ]
  },
  {
   "cell_type": "code",
   "execution_count": 7,
   "id": "684bcbe5",
   "metadata": {},
   "outputs": [
    {
     "name": "stdout",
     "output_type": "stream",
     "text": [
      "7\n",
      "3\n"
     ]
    }
   ],
   "source": [
    "# que - 4\n",
    "x=3\n",
    "y=7\n",
    "x,y=y,x\n",
    "print(x)\n",
    "print(y)"
   ]
  },
  {
   "cell_type": "code",
   "execution_count": 5,
   "id": "3c469f20",
   "metadata": {},
   "outputs": [
    {
     "name": "stdout",
     "output_type": "stream",
     "text": [
      "128\n"
     ]
    }
   ],
   "source": [
    "#que - 5\n",
    "from random import randint\n",
    "random_number = randint(1,10000)\n",
    "print(random_number)"
   ]
  }
 ],
 "metadata": {
  "kernelspec": {
   "display_name": "Python 3 (ipykernel)",
   "language": "python",
   "name": "python3"
  },
  "language_info": {
   "codemirror_mode": {
    "name": "ipython",
    "version": 3
   },
   "file_extension": ".py",
   "mimetype": "text/x-python",
   "name": "python",
   "nbconvert_exporter": "python",
   "pygments_lexer": "ipython3",
   "version": "3.9.12"
  }
 },
 "nbformat": 4,
 "nbformat_minor": 5
}
